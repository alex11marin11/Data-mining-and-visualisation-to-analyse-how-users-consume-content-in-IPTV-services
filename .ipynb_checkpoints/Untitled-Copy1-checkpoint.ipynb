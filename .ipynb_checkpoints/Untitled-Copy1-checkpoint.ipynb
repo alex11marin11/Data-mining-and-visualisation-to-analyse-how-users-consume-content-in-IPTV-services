{
 "cells": [
  {
   "cell_type": "code",
   "execution_count": null,
   "metadata": {},
   "outputs": [],
   "source": [
    "from selenium import webdriver\n",
    "from selenium.webdriver.support.ui import WebDriverWait\n",
    "from selenium.webdriver.common.by import By\n",
    "from selenium.webdriver.support import expected_conditions as EC\n",
    "import random\n",
    "import time\n",
    "import warnings\n",
    "warnings.filterwarnings(\"ignore\")"
   ]
  },
  {
   "cell_type": "code",
   "execution_count": null,
   "metadata": {},
   "outputs": [],
   "source": [
    "count = 0\n",
    "while True:\n",
    "    driver = webdriver.Chrome(r\"./chromedriver2\")\n",
    "    driver.get(\"https://juvenildivisiondehonor.com/candidatos-al-jugador-del-mes-de-febrero-de-la-division-de-honor/\")\n",
    "    \n",
    "    driver.maximize_window()\n",
    "    \n",
    "    button = driver.find_element_by_xpath('//*[@id=\"cookie_action_close_header\"]')\n",
    "    button.click()\n",
    "\n",
    "    driver.switch_to.frame(driver.find_element_by_xpath('//*[@id=\"post-20643\"]/div[2]/div/div/div[1]/div/div[3]/div/div/div/div/div/div/div/iframe'))\n",
    "    button = driver.find_element_by_xpath('//*[@id=\"app\"]/div/div/div[2]/div[1]/div/div/div/div[2]/div[2]/div[1]/div[2]/div/div/div[3]/div/button')\n",
    "    button.click()\n",
    "    time.sleep(10)\n",
    "    driver.close()\n",
    "    \n",
    "    rand_time = random.randint(200, 300)\n",
    "    count += 1\n",
    "    print(count)\n",
    "    time.sleep(rand_time)"
   ]
  }
 ],
 "metadata": {
  "kernelspec": {
   "display_name": "Python 3",
   "language": "python",
   "name": "python3"
  },
  "language_info": {
   "codemirror_mode": {
    "name": "ipython",
    "version": 3
   },
   "file_extension": ".py",
   "mimetype": "text/x-python",
   "name": "python",
   "nbconvert_exporter": "python",
   "pygments_lexer": "ipython3",
   "version": "3.8.3"
  }
 },
 "nbformat": 4,
 "nbformat_minor": 4
}
