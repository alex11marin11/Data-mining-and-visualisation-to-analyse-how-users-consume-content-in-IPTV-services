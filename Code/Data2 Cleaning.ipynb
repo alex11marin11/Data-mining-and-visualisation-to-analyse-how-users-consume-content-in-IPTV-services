{
 "cells": [
  {
   "cell_type": "code",
   "execution_count": 85,
   "metadata": {},
   "outputs": [],
   "source": [
    "import pandas as pd\n",
    "import seaborn as sns\n",
    "import matplotlib.pyplot as plt"
   ]
  },
  {
   "cell_type": "code",
   "execution_count": 86,
   "metadata": {},
   "outputs": [
    {
     "data": {
      "text/html": [
       "<div>\n",
       "<style scoped>\n",
       "    .dataframe tbody tr th:only-of-type {\n",
       "        vertical-align: middle;\n",
       "    }\n",
       "\n",
       "    .dataframe tbody tr th {\n",
       "        vertical-align: top;\n",
       "    }\n",
       "\n",
       "    .dataframe thead th {\n",
       "        text-align: right;\n",
       "    }\n",
       "</style>\n",
       "<table border=\"1\" class=\"dataframe\">\n",
       "  <thead>\n",
       "    <tr style=\"text-align: right;\">\n",
       "      <th></th>\n",
       "      <th>global_op_id</th>\n",
       "      <th>service</th>\n",
       "      <th>user_id</th>\n",
       "      <th>device_id</th>\n",
       "      <th>type</th>\n",
       "      <th>device_type_used</th>\n",
       "      <th>channel_name</th>\n",
       "      <th>program_name</th>\n",
       "      <th>date_time_start</th>\n",
       "      <th>end_date_time</th>\n",
       "      <th>duration</th>\n",
       "      <th>total_duration_user</th>\n",
       "    </tr>\n",
       "  </thead>\n",
       "  <tbody>\n",
       "    <tr>\n",
       "      <th>0</th>\n",
       "      <td>CL</td>\n",
       "      <td>ITV</td>\n",
       "      <td>065817a8f198414182ab840a1f6cab4b9eced3d4f8d3c6...</td>\n",
       "      <td>9b30e1f7e4a5e4aee24a98875885b8a05611d1f75cded1...</td>\n",
       "      <td>live</td>\n",
       "      <td>tvLg_no-Accedo</td>\n",
       "      <td>MEGA</td>\n",
       "      <td>AMAR PROFUNDO, LO MEJOR</td>\n",
       "      <td>2021-12-20T03:01:39.000Z</td>\n",
       "      <td>2021-12-20T03:51:39.000Z</td>\n",
       "      <td>3000</td>\n",
       "      <td>416502</td>\n",
       "    </tr>\n",
       "    <tr>\n",
       "      <th>1</th>\n",
       "      <td>CL</td>\n",
       "      <td>ITV</td>\n",
       "      <td>065817a8f198414182ab840a1f6cab4b9eced3d4f8d3c6...</td>\n",
       "      <td>9b30e1f7e4a5e4aee24a98875885b8a05611d1f75cded1...</td>\n",
       "      <td>live</td>\n",
       "      <td>tvLg_no-Accedo</td>\n",
       "      <td>NTV</td>\n",
       "      <td>Y TÚ ¿EN QUÉ TRABAJAS?</td>\n",
       "      <td>2021-12-20T19:40:40.000Z</td>\n",
       "      <td>2021-12-20T19:42:40.000Z</td>\n",
       "      <td>120</td>\n",
       "      <td>416502</td>\n",
       "    </tr>\n",
       "    <tr>\n",
       "      <th>2</th>\n",
       "      <td>CL</td>\n",
       "      <td>ITV</td>\n",
       "      <td>065817a8f198414182ab840a1f6cab4b9eced3d4f8d3c6...</td>\n",
       "      <td>9b30e1f7e4a5e4aee24a98875885b8a05611d1f75cded1...</td>\n",
       "      <td>live</td>\n",
       "      <td>tvLg_no-Accedo</td>\n",
       "      <td>MEGA</td>\n",
       "      <td>DULCE AMBICIÓN</td>\n",
       "      <td>2021-12-20T19:21:18.000Z</td>\n",
       "      <td>2021-12-20T19:41:18.000Z</td>\n",
       "      <td>1200</td>\n",
       "      <td>416502</td>\n",
       "    </tr>\n",
       "    <tr>\n",
       "      <th>3</th>\n",
       "      <td>CL</td>\n",
       "      <td>ITV</td>\n",
       "      <td>065817a8f198414182ab840a1f6cab4b9eced3d4f8d3c6...</td>\n",
       "      <td>9b30e1f7e4a5e4aee24a98875885b8a05611d1f75cded1...</td>\n",
       "      <td>live</td>\n",
       "      <td>tvLg_no-Accedo</td>\n",
       "      <td>MEGA</td>\n",
       "      <td>VERDADES OCULTAS</td>\n",
       "      <td>2021-12-20T18:30:45.000Z</td>\n",
       "      <td>2021-12-20T19:21:18.000Z</td>\n",
       "      <td>3033</td>\n",
       "      <td>416502</td>\n",
       "    </tr>\n",
       "    <tr>\n",
       "      <th>4</th>\n",
       "      <td>CL</td>\n",
       "      <td>ITV</td>\n",
       "      <td>065817a8f198414182ab840a1f6cab4b9eced3d4f8d3c6...</td>\n",
       "      <td>9b30e1f7e4a5e4aee24a98875885b8a05611d1f75cded1...</td>\n",
       "      <td>live</td>\n",
       "      <td>tvLg_no-Accedo</td>\n",
       "      <td>MEGA</td>\n",
       "      <td>EL TIEMPO</td>\n",
       "      <td>2021-12-20T18:26:45.000Z</td>\n",
       "      <td>2021-12-20T18:30:45.000Z</td>\n",
       "      <td>240</td>\n",
       "      <td>416502</td>\n",
       "    </tr>\n",
       "  </tbody>\n",
       "</table>\n",
       "</div>"
      ],
      "text/plain": [
       "  global_op_id service                                            user_id  \\\n",
       "0           CL     ITV  065817a8f198414182ab840a1f6cab4b9eced3d4f8d3c6...   \n",
       "1           CL     ITV  065817a8f198414182ab840a1f6cab4b9eced3d4f8d3c6...   \n",
       "2           CL     ITV  065817a8f198414182ab840a1f6cab4b9eced3d4f8d3c6...   \n",
       "3           CL     ITV  065817a8f198414182ab840a1f6cab4b9eced3d4f8d3c6...   \n",
       "4           CL     ITV  065817a8f198414182ab840a1f6cab4b9eced3d4f8d3c6...   \n",
       "\n",
       "                                           device_id  type device_type_used  \\\n",
       "0  9b30e1f7e4a5e4aee24a98875885b8a05611d1f75cded1...  live   tvLg_no-Accedo   \n",
       "1  9b30e1f7e4a5e4aee24a98875885b8a05611d1f75cded1...  live   tvLg_no-Accedo   \n",
       "2  9b30e1f7e4a5e4aee24a98875885b8a05611d1f75cded1...  live   tvLg_no-Accedo   \n",
       "3  9b30e1f7e4a5e4aee24a98875885b8a05611d1f75cded1...  live   tvLg_no-Accedo   \n",
       "4  9b30e1f7e4a5e4aee24a98875885b8a05611d1f75cded1...  live   tvLg_no-Accedo   \n",
       "\n",
       "  channel_name             program_name           date_time_start  \\\n",
       "0         MEGA  AMAR PROFUNDO, LO MEJOR  2021-12-20T03:01:39.000Z   \n",
       "1          NTV   Y TÚ ¿EN QUÉ TRABAJAS?  2021-12-20T19:40:40.000Z   \n",
       "2         MEGA           DULCE AMBICIÓN  2021-12-20T19:21:18.000Z   \n",
       "3         MEGA         VERDADES OCULTAS  2021-12-20T18:30:45.000Z   \n",
       "4         MEGA                EL TIEMPO  2021-12-20T18:26:45.000Z   \n",
       "\n",
       "              end_date_time duration total_duration_user  \n",
       "0  2021-12-20T03:51:39.000Z     3000              416502  \n",
       "1  2021-12-20T19:42:40.000Z      120              416502  \n",
       "2  2021-12-20T19:41:18.000Z     1200              416502  \n",
       "3  2021-12-20T19:21:18.000Z     3033              416502  \n",
       "4  2021-12-20T18:30:45.000Z      240              416502  "
      ]
     },
     "execution_count": 86,
     "metadata": {},
     "output_type": "execute_result"
    }
   ],
   "source": [
    "datasets = ['ITV_total_muestra_100.json', 'OPL_total_muestra_70.json', 'TVE_DTH_total_muestra_100.json']\n",
    "dfs = pd.DataFrame()\n",
    "\n",
    "for dataset in range(len(datasets)): \n",
    "\n",
    "    df = pd.read_json('Data/Extraction 2/' + datasets[dataset], lines = True)\n",
    "    dfs = pd.concat([dfs, df], ignore_index=True)\n",
    "\n",
    "cols_names = dfs.columns.str.split('\\t')#.tolist()\n",
    "cols_names = [col for cols_names in cols_names for col in cols_names]\n",
    "\n",
    "dfs = dfs[\"global_op_id\\tservice\\tuser_id\\tdevice_id\\ttype\\tdevice_type_used\\tchannel_name\\tprogram_name\\tdate_time_start\\tend_date_time\\tduration\\tduraciontotal_per_user\"].str.split('\\t', n=-1, expand=True)\n",
    "dfs.columns = cols_names\n",
    "dfs = dfs.rename(columns={'duraciontotal_per_user': 'total_duration_user'})\n",
    "dfs.head()"
   ]
  },
  {
   "cell_type": "code",
   "execution_count": 87,
   "metadata": {},
   "outputs": [
    {
     "name": "stdout",
     "output_type": "stream",
     "text": [
      "<class 'pandas.core.frame.DataFrame'>\n",
      "RangeIndex: 201740 entries, 0 to 201739\n",
      "Data columns (total 12 columns):\n",
      " #   Column               Non-Null Count   Dtype \n",
      "---  ------               --------------   ----- \n",
      " 0   global_op_id         201740 non-null  object\n",
      " 1   service              201740 non-null  object\n",
      " 2   user_id              201740 non-null  object\n",
      " 3   device_id            201740 non-null  object\n",
      " 4   type                 201740 non-null  object\n",
      " 5   device_type_used     201740 non-null  object\n",
      " 6   channel_name         201740 non-null  object\n",
      " 7   program_name         201740 non-null  object\n",
      " 8   date_time_start      201171 non-null  object\n",
      " 9   end_date_time        201171 non-null  object\n",
      " 10  duration             201171 non-null  object\n",
      " 11  total_duration_user  201171 non-null  object\n",
      "dtypes: object(12)\n",
      "memory usage: 18.5+ MB\n"
     ]
    }
   ],
   "source": [
    "dfs.info()"
   ]
  },
  {
   "cell_type": "code",
   "execution_count": 88,
   "metadata": {},
   "outputs": [
    {
     "name": "stdout",
     "output_type": "stream",
     "text": [
      "<class 'pandas.core.frame.DataFrame'>\n",
      "Int64Index: 201171 entries, 0 to 201739\n",
      "Data columns (total 12 columns):\n",
      " #   Column               Non-Null Count   Dtype         \n",
      "---  ------               --------------   -----         \n",
      " 0   global_op_id         201171 non-null  object        \n",
      " 1   service              201171 non-null  object        \n",
      " 2   user_id              201171 non-null  object        \n",
      " 3   device_id            201171 non-null  object        \n",
      " 4   type                 201171 non-null  object        \n",
      " 5   device_type_used     201171 non-null  object        \n",
      " 6   channel_name         201171 non-null  object        \n",
      " 7   program_name         201171 non-null  object        \n",
      " 8   date_time_start      201171 non-null  datetime64[ns]\n",
      " 9   end_date_time        201171 non-null  datetime64[ns]\n",
      " 10  duration             201171 non-null  int32         \n",
      " 11  total_duration_user  201171 non-null  int32         \n",
      "dtypes: datetime64[ns](2), int32(2), object(8)\n",
      "memory usage: 18.4+ MB\n"
     ]
    }
   ],
   "source": [
    "# Drop rows that have NA values (569 rows)\n",
    "dfs = dfs[~dfs.isna().any(axis=1)]\n",
    "\n",
    "# Change to datetime and integer type\n",
    "dfs = dfs.astype({\"date_time_start\":\"datetime64\", \"end_date_time\":\"datetime64\", \n",
    "                  \"duration\":\"int\",\"total_duration_user\":\"int\"})\n",
    "\n",
    "# Change datetime format\n",
    "# dfs[\"date_time_start\"] = dfs[\"date_time_start\"].dt.strftime('%d/%m/%Y %H:%M:%S')\n",
    "# dfs[\"end_date_time\"] = dfs[\"end_date_time\"].dt.strftime('%d/%m/%Y %H:%M:%S')\n",
    "\n",
    "# Delete microseconds\n",
    "dfs[\"date_time_start\"] = dfs[\"date_time_start\"].apply(lambda x: x.replace(microsecond=0))\n",
    "dfs[\"end_date_time\"] = dfs[\"end_date_time\"].apply(lambda x: x.replace(microsecond=0))\n",
    "\n",
    "# Convert from UTC Timezone to \n",
    "dfs[\"date_time_start\"] = dfs[\"date_time_start\"].dt.tz_localize('UTC').dt.tz_convert('Chile/Continental')\n",
    "dfs[\"end_date_time\"] = dfs[\"end_date_time\"].dt.tz_localize('UTC').dt.tz_convert('Chile/Continental')\n",
    "\n",
    "# Eliminate Timezone GMT-3 info from column\n",
    "dfs[\"date_time_start\"] = dfs[\"date_time_start\"].dt.tz_localize(None)\n",
    "dfs[\"end_date_time\"] = dfs[\"end_date_time\"].dt.tz_localize(None)\n",
    "\n",
    "dfs.info()"
   ]
  },
  {
   "cell_type": "code",
   "execution_count": 89,
   "metadata": {},
   "outputs": [
    {
     "data": {
      "text/html": [
       "<div>\n",
       "<style scoped>\n",
       "    .dataframe tbody tr th:only-of-type {\n",
       "        vertical-align: middle;\n",
       "    }\n",
       "\n",
       "    .dataframe tbody tr th {\n",
       "        vertical-align: top;\n",
       "    }\n",
       "\n",
       "    .dataframe thead th {\n",
       "        text-align: right;\n",
       "    }\n",
       "</style>\n",
       "<table border=\"1\" class=\"dataframe\">\n",
       "  <thead>\n",
       "    <tr style=\"text-align: right;\">\n",
       "      <th></th>\n",
       "      <th>global_op_id</th>\n",
       "      <th>service</th>\n",
       "      <th>user_id</th>\n",
       "      <th>device_id</th>\n",
       "      <th>type</th>\n",
       "      <th>device_type_used</th>\n",
       "      <th>channel_name</th>\n",
       "      <th>program_name</th>\n",
       "      <th>date_time_start</th>\n",
       "      <th>end_date_time</th>\n",
       "      <th>duration</th>\n",
       "      <th>total_duration_user</th>\n",
       "    </tr>\n",
       "  </thead>\n",
       "  <tbody>\n",
       "    <tr>\n",
       "      <th>0</th>\n",
       "      <td>CL</td>\n",
       "      <td>ITV</td>\n",
       "      <td>065817a8f198414182ab840a1f6cab4b9eced3d4f8d3c6...</td>\n",
       "      <td>9b30e1f7e4a5e4aee24a98875885b8a05611d1f75cded1...</td>\n",
       "      <td>live</td>\n",
       "      <td>tvLg_no-Accedo</td>\n",
       "      <td>MEGA</td>\n",
       "      <td>AMAR PROFUNDO, LO MEJOR</td>\n",
       "      <td>2021-12-20 00:01:39</td>\n",
       "      <td>2021-12-20 00:51:39</td>\n",
       "      <td>3000</td>\n",
       "      <td>416502</td>\n",
       "    </tr>\n",
       "    <tr>\n",
       "      <th>1</th>\n",
       "      <td>CL</td>\n",
       "      <td>ITV</td>\n",
       "      <td>065817a8f198414182ab840a1f6cab4b9eced3d4f8d3c6...</td>\n",
       "      <td>9b30e1f7e4a5e4aee24a98875885b8a05611d1f75cded1...</td>\n",
       "      <td>live</td>\n",
       "      <td>tvLg_no-Accedo</td>\n",
       "      <td>NTV</td>\n",
       "      <td>Y TÚ ¿EN QUÉ TRABAJAS?</td>\n",
       "      <td>2021-12-20 16:40:40</td>\n",
       "      <td>2021-12-20 16:42:40</td>\n",
       "      <td>120</td>\n",
       "      <td>416502</td>\n",
       "    </tr>\n",
       "    <tr>\n",
       "      <th>2</th>\n",
       "      <td>CL</td>\n",
       "      <td>ITV</td>\n",
       "      <td>065817a8f198414182ab840a1f6cab4b9eced3d4f8d3c6...</td>\n",
       "      <td>9b30e1f7e4a5e4aee24a98875885b8a05611d1f75cded1...</td>\n",
       "      <td>live</td>\n",
       "      <td>tvLg_no-Accedo</td>\n",
       "      <td>MEGA</td>\n",
       "      <td>DULCE AMBICIÓN</td>\n",
       "      <td>2021-12-20 16:21:18</td>\n",
       "      <td>2021-12-20 16:41:18</td>\n",
       "      <td>1200</td>\n",
       "      <td>416502</td>\n",
       "    </tr>\n",
       "    <tr>\n",
       "      <th>3</th>\n",
       "      <td>CL</td>\n",
       "      <td>ITV</td>\n",
       "      <td>065817a8f198414182ab840a1f6cab4b9eced3d4f8d3c6...</td>\n",
       "      <td>9b30e1f7e4a5e4aee24a98875885b8a05611d1f75cded1...</td>\n",
       "      <td>live</td>\n",
       "      <td>tvLg_no-Accedo</td>\n",
       "      <td>MEGA</td>\n",
       "      <td>VERDADES OCULTAS</td>\n",
       "      <td>2021-12-20 15:30:45</td>\n",
       "      <td>2021-12-20 16:21:18</td>\n",
       "      <td>3033</td>\n",
       "      <td>416502</td>\n",
       "    </tr>\n",
       "    <tr>\n",
       "      <th>4</th>\n",
       "      <td>CL</td>\n",
       "      <td>ITV</td>\n",
       "      <td>065817a8f198414182ab840a1f6cab4b9eced3d4f8d3c6...</td>\n",
       "      <td>9b30e1f7e4a5e4aee24a98875885b8a05611d1f75cded1...</td>\n",
       "      <td>live</td>\n",
       "      <td>tvLg_no-Accedo</td>\n",
       "      <td>MEGA</td>\n",
       "      <td>EL TIEMPO</td>\n",
       "      <td>2021-12-20 15:26:45</td>\n",
       "      <td>2021-12-20 15:30:45</td>\n",
       "      <td>240</td>\n",
       "      <td>416502</td>\n",
       "    </tr>\n",
       "  </tbody>\n",
       "</table>\n",
       "</div>"
      ],
      "text/plain": [
       "  global_op_id service                                            user_id  \\\n",
       "0           CL     ITV  065817a8f198414182ab840a1f6cab4b9eced3d4f8d3c6...   \n",
       "1           CL     ITV  065817a8f198414182ab840a1f6cab4b9eced3d4f8d3c6...   \n",
       "2           CL     ITV  065817a8f198414182ab840a1f6cab4b9eced3d4f8d3c6...   \n",
       "3           CL     ITV  065817a8f198414182ab840a1f6cab4b9eced3d4f8d3c6...   \n",
       "4           CL     ITV  065817a8f198414182ab840a1f6cab4b9eced3d4f8d3c6...   \n",
       "\n",
       "                                           device_id  type device_type_used  \\\n",
       "0  9b30e1f7e4a5e4aee24a98875885b8a05611d1f75cded1...  live   tvLg_no-Accedo   \n",
       "1  9b30e1f7e4a5e4aee24a98875885b8a05611d1f75cded1...  live   tvLg_no-Accedo   \n",
       "2  9b30e1f7e4a5e4aee24a98875885b8a05611d1f75cded1...  live   tvLg_no-Accedo   \n",
       "3  9b30e1f7e4a5e4aee24a98875885b8a05611d1f75cded1...  live   tvLg_no-Accedo   \n",
       "4  9b30e1f7e4a5e4aee24a98875885b8a05611d1f75cded1...  live   tvLg_no-Accedo   \n",
       "\n",
       "  channel_name             program_name     date_time_start  \\\n",
       "0         MEGA  AMAR PROFUNDO, LO MEJOR 2021-12-20 00:01:39   \n",
       "1          NTV   Y TÚ ¿EN QUÉ TRABAJAS? 2021-12-20 16:40:40   \n",
       "2         MEGA           DULCE AMBICIÓN 2021-12-20 16:21:18   \n",
       "3         MEGA         VERDADES OCULTAS 2021-12-20 15:30:45   \n",
       "4         MEGA                EL TIEMPO 2021-12-20 15:26:45   \n",
       "\n",
       "        end_date_time  duration  total_duration_user  \n",
       "0 2021-12-20 00:51:39      3000               416502  \n",
       "1 2021-12-20 16:42:40       120               416502  \n",
       "2 2021-12-20 16:41:18      1200               416502  \n",
       "3 2021-12-20 16:21:18      3033               416502  \n",
       "4 2021-12-20 15:30:45       240               416502  "
      ]
     },
     "execution_count": 89,
     "metadata": {},
     "output_type": "execute_result"
    }
   ],
   "source": [
    "dfs.head()"
   ]
  },
  {
   "cell_type": "code",
   "execution_count": 90,
   "metadata": {},
   "outputs": [],
   "source": [
    "# Drop global_op_id columns since all have the same value\n",
    "df_tot = dfs.drop(['global_op_id'], axis=1)"
   ]
  },
  {
   "cell_type": "code",
   "execution_count": 91,
   "metadata": {},
   "outputs": [
    {
     "data": {
      "text/plain": [
       "TV            97640\n",
       "STB IPTV      91087\n",
       "SMARTPHONE     6856\n",
       "PC             2416\n",
       "STREAMER       1883\n",
       "TABLET         1289\n",
       "Name: device_type_used, dtype: int64"
      ]
     },
     "execution_count": 91,
     "metadata": {},
     "output_type": "execute_result"
    }
   ],
   "source": [
    "# Make classification of device_type_used column values into more general classification\n",
    "df_tot.loc[df_tot['device_type_used'].isin(['tvLg_no-Accedo', 'tvSamsung_2017+', \n",
    "                                            'tvAndroidTv', 'tvSamsung', 'tvLg', \n",
    "                                            'tvPanasonic', 'tvPhilips', 'tvSony']), 'device_type_used'] = 'TV'\n",
    "df_tot.loc[df_tot['device_type_used'].isin(['stbHybridZapperCable', 'stbProteusCableUHD', \n",
    "                                            'stbProteusCableHD', 'stbHybridZapperCable1Gb', \n",
    "                                            'stbHybridPVRCable']), 'device_type_used'] = 'STB CATV'\n",
    "df_tot.loc[df_tot['device_type_used'].isin(['sphAndroid', 'sphApple']), 'device_type_used'] = 'SMARTPHONE'\n",
    "df_tot.loc[df_tot['device_type_used'].isin(['tabApple', 'tabAndroid', 'tabWin']), 'device_type_used'] = 'TABLET'\n",
    "df_tot.loc[df_tot['device_type_used'].isin(['Chromecast']), 'device_type_used'] = 'STREAMER'\n",
    "df_tot.loc[df_tot['device_type_used'].isin(['stbAndroidTv', 'FireTV']), 'device_type_used'] = 'STB OTT'\n",
    "df_tot.loc[df_tot['device_type_used'].isin(['OpenIPTV_STB', 'Mediaroom']), 'device_type_used'] = 'STB IPTV'\n",
    "\n",
    "df_tot.iloc[:,4].value_counts() # Show the number of instances of each device type used"
   ]
  },
  {
   "cell_type": "code",
   "execution_count": 92,
   "metadata": {},
   "outputs": [
    {
     "data": {
      "text/plain": [
       "live    198662\n",
       "vod       2509\n",
       "Name: type, dtype: int64"
      ]
     },
     "execution_count": 92,
     "metadata": {},
     "output_type": "execute_result"
    }
   ],
   "source": [
    "df_tot.iloc[:,3].value_counts() # Show the number of samples of vod vs live"
   ]
  },
  {
   "cell_type": "code",
   "execution_count": 93,
   "metadata": {},
   "outputs": [
    {
     "data": {
      "text/html": [
       "<div>\n",
       "<style scoped>\n",
       "    .dataframe tbody tr th:only-of-type {\n",
       "        vertical-align: middle;\n",
       "    }\n",
       "\n",
       "    .dataframe tbody tr th {\n",
       "        vertical-align: top;\n",
       "    }\n",
       "\n",
       "    .dataframe thead th {\n",
       "        text-align: right;\n",
       "    }\n",
       "</style>\n",
       "<table border=\"1\" class=\"dataframe\">\n",
       "  <thead>\n",
       "    <tr style=\"text-align: right;\">\n",
       "      <th></th>\n",
       "      <th>duration</th>\n",
       "      <th>total_duration_user</th>\n",
       "    </tr>\n",
       "  </thead>\n",
       "  <tbody>\n",
       "    <tr>\n",
       "      <th>count</th>\n",
       "      <td>201171</td>\n",
       "      <td>201171</td>\n",
       "    </tr>\n",
       "    <tr>\n",
       "      <th>mean</th>\n",
       "      <td>1338</td>\n",
       "      <td>1350704</td>\n",
       "    </tr>\n",
       "    <tr>\n",
       "      <th>std</th>\n",
       "      <td>1787</td>\n",
       "      <td>669952</td>\n",
       "    </tr>\n",
       "    <tr>\n",
       "      <th>min</th>\n",
       "      <td>2</td>\n",
       "      <td>358343</td>\n",
       "    </tr>\n",
       "    <tr>\n",
       "      <th>25%</th>\n",
       "      <td>120</td>\n",
       "      <td>749684</td>\n",
       "    </tr>\n",
       "    <tr>\n",
       "      <th>50%</th>\n",
       "      <td>542</td>\n",
       "      <td>1269892</td>\n",
       "    </tr>\n",
       "    <tr>\n",
       "      <th>75%</th>\n",
       "      <td>1800</td>\n",
       "      <td>1921640</td>\n",
       "    </tr>\n",
       "    <tr>\n",
       "      <th>max</th>\n",
       "      <td>46800</td>\n",
       "      <td>2811851</td>\n",
       "    </tr>\n",
       "  </tbody>\n",
       "</table>\n",
       "</div>"
      ],
      "text/plain": [
       "      duration total_duration_user\n",
       "count   201171              201171\n",
       "mean      1338             1350704\n",
       "std       1787              669952\n",
       "min          2              358343\n",
       "25%        120              749684\n",
       "50%        542             1269892\n",
       "75%       1800             1921640\n",
       "max      46800             2811851"
      ]
     },
     "execution_count": 93,
     "metadata": {},
     "output_type": "execute_result"
    }
   ],
   "source": [
    "# Show interesting and general statistics about the integer valued columns\n",
    "numerical_df = df_tot.iloc[:,-2:]\n",
    "numerical_df.describe().applymap(lambda x: f\"{x:0.0f}\")"
   ]
  },
  {
   "cell_type": "code",
   "execution_count": 94,
   "metadata": {},
   "outputs": [
    {
     "data": {
      "text/plain": [
       "0   2021-12-20 00:01:39\n",
       "1   2021-12-20 16:40:40\n",
       "2   2021-12-20 16:21:18\n",
       "3   2021-12-20 15:30:45\n",
       "4   2021-12-20 15:26:45\n",
       "Name: date_time_start, dtype: datetime64[ns]"
      ]
     },
     "execution_count": 94,
     "metadata": {},
     "output_type": "execute_result"
    }
   ],
   "source": [
    "df_tot.iloc[:,7].head(5)"
   ]
  },
  {
   "cell_type": "code",
   "execution_count": 95,
   "metadata": {},
   "outputs": [
    {
     "data": {
      "text/plain": [
       "CHV                  26736\n",
       "MEGA                 21646\n",
       "TVN                  15254\n",
       "CANAL 13              9685\n",
       "MEGA HD               9379\n",
       "CANAL 13 SPA          7364\n",
       "TNT SPORTS HD         4470\n",
       "ESPN HD               3895\n",
       "MEGA / MEGA HD        3680\n",
       "LA RED                2563\n",
       "NA                    2509\n",
       "DISCOVERY KIDS HD     2486\n",
       "TV+                   2209\n",
       "TNT SPORTS 3 HD       2083\n",
       "24 HORAS HD           1919\n",
       "Name: channel_name, dtype: int64"
      ]
     },
     "execution_count": 95,
     "metadata": {},
     "output_type": "execute_result"
    }
   ],
   "source": [
    "df_tot.iloc[:,5].value_counts().head(15)"
   ]
  },
  {
   "cell_type": "code",
   "execution_count": 96,
   "metadata": {},
   "outputs": [
    {
     "data": {
      "text/plain": [
       "POBRE NOVIO               4886\n",
       "EL TIEMPO                 4689\n",
       "CONTIGO EN LA MAÑANA      4659\n",
       "MEGANOTICIAS PRIME        4431\n",
       "CHV NOTICIAS CENTRAL      4365\n",
       "MUCHO GUSTO               3501\n",
       "CHV NOTICIAS TARDE        2923\n",
       "24 HORAS CENTRAL          2546\n",
       "TELETRECE                 2325\n",
       "MEGANOTICIAS ACTUALIZA    2273\n",
       "BUENOS DÍAS A TODOS       1938\n",
       "FRANJA ELECTORAL          1927\n",
       "TÚ DÍA                    1873\n",
       "¿QUIÉN ES LA MÁSCARA?     1760\n",
       "VERDADES OCULTAS          1507\n",
       "Name: program_name, dtype: int64"
      ]
     },
     "execution_count": 96,
     "metadata": {},
     "output_type": "execute_result"
    }
   ],
   "source": [
    "df_tot.iloc[:,6].value_counts().head(15)"
   ]
  },
  {
   "cell_type": "code",
   "execution_count": 97,
   "metadata": {},
   "outputs": [
    {
     "name": "stdout",
     "output_type": "stream",
     "text": [
      "<class 'pandas.core.frame.DataFrame'>\n",
      "Int64Index: 201171 entries, 0 to 201739\n",
      "Data columns (total 11 columns):\n",
      " #   Column               Non-Null Count   Dtype         \n",
      "---  ------               --------------   -----         \n",
      " 0   service              201171 non-null  object        \n",
      " 1   user_id              201171 non-null  object        \n",
      " 2   device_id            201171 non-null  object        \n",
      " 3   type                 201171 non-null  object        \n",
      " 4   device_type_used     201171 non-null  object        \n",
      " 5   channel_name         201171 non-null  object        \n",
      " 6   program_name         201171 non-null  object        \n",
      " 7   date_time_start      201171 non-null  datetime64[ns]\n",
      " 8   end_date_time        201171 non-null  datetime64[ns]\n",
      " 9   duration             201171 non-null  int32         \n",
      " 10  total_duration_user  201171 non-null  int32         \n",
      "dtypes: datetime64[ns](2), int32(2), object(7)\n",
      "memory usage: 16.9+ MB\n"
     ]
    }
   ],
   "source": [
    "df_tot.info()"
   ]
  },
  {
   "cell_type": "code",
   "execution_count": 98,
   "metadata": {},
   "outputs": [],
   "source": [
    "df_tot.to_csv('Data/Extraction 2/Clean data.csv',index=False)"
   ]
  },
  {
   "cell_type": "code",
   "execution_count": 99,
   "metadata": {},
   "outputs": [
    {
     "data": {
      "image/png": "[encoded data removed]",
      "text/plain": [
       "<Figure size 1440x360 with 2 Axes>"
      ]
     },
     "metadata": {
      "needs_background": "light"
     },
     "output_type": "display_data"
    }
   ],
   "source": [
    "hist = df_tot.hist(column=['duration', 'total_duration_user'], bins=50, figsize=(20,5))"
   ]
  },
  {
   "cell_type": "code",
   "execution_count": 100,
   "metadata": {},
   "outputs": [
    {
     "data": {
      "image/png": "[encoded data removed]",
      "text/plain": [
       "<Figure size 1440x360 with 2 Axes>"
      ]
     },
     "metadata": {
      "needs_background": "light"
     },
     "output_type": "display_data"
    }
   ],
   "source": [
    "fig, ax = plt.subplots(1, 2, figsize=(20, 5))\n",
    "boxplot = df_tot.boxplot('duration', ax=ax[0])\n",
    "boxplot = df_tot.boxplot('total_duration_user', ax=ax[1])"
   ]
  },
  {
   "cell_type": "code",
   "execution_count": 101,
   "metadata": {
    "scrolled": false
   },
   "outputs": [
    {
     "name": "stderr",
     "output_type": "stream",
     "text": [
      "<ipython-input-101-e17b09516988>:12: UserWarning: To output multiple subplots, the figure containing the passed axes is being cleared\n",
      "  item.hist(ax=ax[0])\n"
     ]
    },
    {
     "data": {
      "image/png": "[encoded data removed]",
      "text/plain": [
       "<Figure size 1440x1440 with 2 Axes>"
      ]
     },
     "metadata": {
      "needs_background": "light"
     },
     "output_type": "display_data"
    }
   ],
   "source": [
    "# hist_by = df_tot.hist(column='duration', by='device_type_used', bins=50, figsize=(20,20), sharex=True)\n",
    "# hist_by = df_tot.hist(column='total_duration_user', by='device_type_used', bins=50, figsize=(20,20), sharex=True)\n",
    "\n",
    "fig, ax = plt.subplots(1, 3, sharex='col', sharey='row', figsize=(20, 20))\n",
    "# df_tot.hist(column='duration', by='device_type_used', bins=50, ax=ax[0], figsize=(20,20), sharex=True)\n",
    "# df_tot.hist(column='total_duration_user', by='device_type_used', bins=50, ax=ax[1], figsize=(20,20), sharex=True)\n",
    "# df_tot['total_duration_user'].hist(by='device_type_used', alpha=0.5)\n",
    "df_group = df_tot.groupby('device_type_used')\n",
    "i = 0\n",
    "for key, item in df_group:\n",
    "    if i < 3:\n",
    "        item.hist(ax=ax[0])\n",
    "    else:\n",
    "        item.hist(ax=ax[1])"
   ]
  },
  {
   "cell_type": "code",
   "execution_count": 102,
   "metadata": {},
   "outputs": [
    {
     "data": {
      "image/png": "[encoded data removed]",
      "text/plain": [
       "<Figure size 1440x720 with 4 Axes>"
      ]
     },
     "metadata": {
      "needs_background": "light"
     },
     "output_type": "display_data"
    },
    {
     "data": {
      "image/png": "[encoded data removed]",
      "text/plain": [
       "<Figure size 1440x720 with 4 Axes>"
      ]
     },
     "metadata": {
      "needs_background": "light"
     },
     "output_type": "display_data"
    }
   ],
   "source": [
    "hist_by = df_tot.hist(column='duration', by='service', bins=50, figsize=(20,10))\n",
    "hist_by = df_tot.hist(column='total_duration_user', by='service', bins=50, figsize=(20,10))"
   ]
  },
  {
   "cell_type": "code",
   "execution_count": null,
   "metadata": {},
   "outputs": [],
   "source": []
  }
 ],
 "metadata": {
  "kernelspec": {
   "display_name": "Python 3",
   "language": "python",
   "name": "python3"
  },
  "language_info": {
   "codemirror_mode": {
    "name": "ipython",
    "version": 3
   },
   "file_extension": ".py",
   "mimetype": "text/x-python",
   "name": "python",
   "nbconvert_exporter": "python",
   "pygments_lexer": "ipython3",
   "version": "3.8.3"
  }
 },
 "nbformat": 4,
 "nbformat_minor": 4
}
