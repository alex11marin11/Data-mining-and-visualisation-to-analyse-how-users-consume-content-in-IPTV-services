{
 "cells": [
  {
   "cell_type": "code",
   "execution_count": 1,
   "metadata": {},
   "outputs": [],
   "source": [
    "import pandas as pd\n",
    "from pandas_profiling import ProfileReport\n",
    "from sklearn.preprocessing import LabelEncoder, Normalizer\n",
    "import seaborn as sns\n",
    "import matplotlib.pyplot as plt\n",
    "from apyori import apriori\n",
    "import scipy.cluster.hierarchy as sch"
   ]
  },
  {
   "cell_type": "code",
   "execution_count": 3,
   "metadata": {},
   "outputs": [
    {
     "ename": "FileNotFoundError",
     "evalue": "[Errno 2] File Data/Extraction 3/Clean data 4.csv does not exist: 'Data/Extraction 3/Clean data 4.csv'",
     "output_type": "error",
     "traceback": [
      "\u001b[1;31m---------------------------------------------------------------------------\u001b[0m",
      "\u001b[1;31mFileNotFoundError\u001b[0m                         Traceback (most recent call last)",
      "\u001b[1;32m<ipython-input-3-ae204fcebd4c>\u001b[0m in \u001b[0;36m<module>\u001b[1;34m\u001b[0m\n\u001b[1;32m----> 1\u001b[1;33m \u001b[0mdf\u001b[0m \u001b[1;33m=\u001b[0m \u001b[0mpd\u001b[0m\u001b[1;33m.\u001b[0m\u001b[0mread_csv\u001b[0m\u001b[1;33m(\u001b[0m\u001b[1;34m'Data/Extraction 3/Clean data 4.csv'\u001b[0m\u001b[1;33m)\u001b[0m\u001b[1;33m\u001b[0m\u001b[1;33m\u001b[0m\u001b[0m\n\u001b[0m\u001b[0;32m      2\u001b[0m \u001b[0mdf\u001b[0m\u001b[1;33m.\u001b[0m\u001b[0mhead\u001b[0m\u001b[1;33m(\u001b[0m\u001b[1;33m)\u001b[0m\u001b[1;33m\u001b[0m\u001b[1;33m\u001b[0m\u001b[0m\n",
      "\u001b[1;32m~\\anaconda3\\lib\\site-packages\\pandas\\io\\parsers.py\u001b[0m in \u001b[0;36mparser_f\u001b[1;34m(filepath_or_buffer, sep, delimiter, header, names, index_col, usecols, squeeze, prefix, mangle_dupe_cols, dtype, engine, converters, true_values, false_values, skipinitialspace, skiprows, skipfooter, nrows, na_values, keep_default_na, na_filter, verbose, skip_blank_lines, parse_dates, infer_datetime_format, keep_date_col, date_parser, dayfirst, cache_dates, iterator, chunksize, compression, thousands, decimal, lineterminator, quotechar, quoting, doublequote, escapechar, comment, encoding, dialect, error_bad_lines, warn_bad_lines, delim_whitespace, low_memory, memory_map, float_precision)\u001b[0m\n\u001b[0;32m    674\u001b[0m         )\n\u001b[0;32m    675\u001b[0m \u001b[1;33m\u001b[0m\u001b[0m\n\u001b[1;32m--> 676\u001b[1;33m         \u001b[1;32mreturn\u001b[0m \u001b[0m_read\u001b[0m\u001b[1;33m(\u001b[0m\u001b[0mfilepath_or_buffer\u001b[0m\u001b[1;33m,\u001b[0m \u001b[0mkwds\u001b[0m\u001b[1;33m)\u001b[0m\u001b[1;33m\u001b[0m\u001b[1;33m\u001b[0m\u001b[0m\n\u001b[0m\u001b[0;32m    677\u001b[0m \u001b[1;33m\u001b[0m\u001b[0m\n\u001b[0;32m    678\u001b[0m     \u001b[0mparser_f\u001b[0m\u001b[1;33m.\u001b[0m\u001b[0m__name__\u001b[0m \u001b[1;33m=\u001b[0m \u001b[0mname\u001b[0m\u001b[1;33m\u001b[0m\u001b[1;33m\u001b[0m\u001b[0m\n",
      "\u001b[1;32m~\\anaconda3\\lib\\site-packages\\pandas\\io\\parsers.py\u001b[0m in \u001b[0;36m_read\u001b[1;34m(filepath_or_buffer, kwds)\u001b[0m\n\u001b[0;32m    446\u001b[0m \u001b[1;33m\u001b[0m\u001b[0m\n\u001b[0;32m    447\u001b[0m     \u001b[1;31m# Create the parser.\u001b[0m\u001b[1;33m\u001b[0m\u001b[1;33m\u001b[0m\u001b[1;33m\u001b[0m\u001b[0m\n\u001b[1;32m--> 448\u001b[1;33m     \u001b[0mparser\u001b[0m \u001b[1;33m=\u001b[0m \u001b[0mTextFileReader\u001b[0m\u001b[1;33m(\u001b[0m\u001b[0mfp_or_buf\u001b[0m\u001b[1;33m,\u001b[0m \u001b[1;33m**\u001b[0m\u001b[0mkwds\u001b[0m\u001b[1;33m)\u001b[0m\u001b[1;33m\u001b[0m\u001b[1;33m\u001b[0m\u001b[0m\n\u001b[0m\u001b[0;32m    449\u001b[0m \u001b[1;33m\u001b[0m\u001b[0m\n\u001b[0;32m    450\u001b[0m     \u001b[1;32mif\u001b[0m \u001b[0mchunksize\u001b[0m \u001b[1;32mor\u001b[0m \u001b[0miterator\u001b[0m\u001b[1;33m:\u001b[0m\u001b[1;33m\u001b[0m\u001b[1;33m\u001b[0m\u001b[0m\n",
      "\u001b[1;32m~\\anaconda3\\lib\\site-packages\\pandas\\io\\parsers.py\u001b[0m in \u001b[0;36m__init__\u001b[1;34m(self, f, engine, **kwds)\u001b[0m\n\u001b[0;32m    878\u001b[0m             \u001b[0mself\u001b[0m\u001b[1;33m.\u001b[0m\u001b[0moptions\u001b[0m\u001b[1;33m[\u001b[0m\u001b[1;34m\"has_index_names\"\u001b[0m\u001b[1;33m]\u001b[0m \u001b[1;33m=\u001b[0m \u001b[0mkwds\u001b[0m\u001b[1;33m[\u001b[0m\u001b[1;34m\"has_index_names\"\u001b[0m\u001b[1;33m]\u001b[0m\u001b[1;33m\u001b[0m\u001b[1;33m\u001b[0m\u001b[0m\n\u001b[0;32m    879\u001b[0m \u001b[1;33m\u001b[0m\u001b[0m\n\u001b[1;32m--> 880\u001b[1;33m         \u001b[0mself\u001b[0m\u001b[1;33m.\u001b[0m\u001b[0m_make_engine\u001b[0m\u001b[1;33m(\u001b[0m\u001b[0mself\u001b[0m\u001b[1;33m.\u001b[0m\u001b[0mengine\u001b[0m\u001b[1;33m)\u001b[0m\u001b[1;33m\u001b[0m\u001b[1;33m\u001b[0m\u001b[0m\n\u001b[0m\u001b[0;32m    881\u001b[0m \u001b[1;33m\u001b[0m\u001b[0m\n\u001b[0;32m    882\u001b[0m     \u001b[1;32mdef\u001b[0m \u001b[0mclose\u001b[0m\u001b[1;33m(\u001b[0m\u001b[0mself\u001b[0m\u001b[1;33m)\u001b[0m\u001b[1;33m:\u001b[0m\u001b[1;33m\u001b[0m\u001b[1;33m\u001b[0m\u001b[0m\n",
      "\u001b[1;32m~\\anaconda3\\lib\\site-packages\\pandas\\io\\parsers.py\u001b[0m in \u001b[0;36m_make_engine\u001b[1;34m(self, engine)\u001b[0m\n\u001b[0;32m   1112\u001b[0m     \u001b[1;32mdef\u001b[0m \u001b[0m_make_engine\u001b[0m\u001b[1;33m(\u001b[0m\u001b[0mself\u001b[0m\u001b[1;33m,\u001b[0m \u001b[0mengine\u001b[0m\u001b[1;33m=\u001b[0m\u001b[1;34m\"c\"\u001b[0m\u001b[1;33m)\u001b[0m\u001b[1;33m:\u001b[0m\u001b[1;33m\u001b[0m\u001b[1;33m\u001b[0m\u001b[0m\n\u001b[0;32m   1113\u001b[0m         \u001b[1;32mif\u001b[0m \u001b[0mengine\u001b[0m \u001b[1;33m==\u001b[0m \u001b[1;34m\"c\"\u001b[0m\u001b[1;33m:\u001b[0m\u001b[1;33m\u001b[0m\u001b[1;33m\u001b[0m\u001b[0m\n\u001b[1;32m-> 1114\u001b[1;33m             \u001b[0mself\u001b[0m\u001b[1;33m.\u001b[0m\u001b[0m_engine\u001b[0m \u001b[1;33m=\u001b[0m \u001b[0mCParserWrapper\u001b[0m\u001b[1;33m(\u001b[0m\u001b[0mself\u001b[0m\u001b[1;33m.\u001b[0m\u001b[0mf\u001b[0m\u001b[1;33m,\u001b[0m \u001b[1;33m**\u001b[0m\u001b[0mself\u001b[0m\u001b[1;33m.\u001b[0m\u001b[0moptions\u001b[0m\u001b[1;33m)\u001b[0m\u001b[1;33m\u001b[0m\u001b[1;33m\u001b[0m\u001b[0m\n\u001b[0m\u001b[0;32m   1115\u001b[0m         \u001b[1;32melse\u001b[0m\u001b[1;33m:\u001b[0m\u001b[1;33m\u001b[0m\u001b[1;33m\u001b[0m\u001b[0m\n\u001b[0;32m   1116\u001b[0m             \u001b[1;32mif\u001b[0m \u001b[0mengine\u001b[0m \u001b[1;33m==\u001b[0m \u001b[1;34m\"python\"\u001b[0m\u001b[1;33m:\u001b[0m\u001b[1;33m\u001b[0m\u001b[1;33m\u001b[0m\u001b[0m\n",
      "\u001b[1;32m~\\anaconda3\\lib\\site-packages\\pandas\\io\\parsers.py\u001b[0m in \u001b[0;36m__init__\u001b[1;34m(self, src, **kwds)\u001b[0m\n\u001b[0;32m   1889\u001b[0m         \u001b[0mkwds\u001b[0m\u001b[1;33m[\u001b[0m\u001b[1;34m\"usecols\"\u001b[0m\u001b[1;33m]\u001b[0m \u001b[1;33m=\u001b[0m \u001b[0mself\u001b[0m\u001b[1;33m.\u001b[0m\u001b[0musecols\u001b[0m\u001b[1;33m\u001b[0m\u001b[1;33m\u001b[0m\u001b[0m\n\u001b[0;32m   1890\u001b[0m \u001b[1;33m\u001b[0m\u001b[0m\n\u001b[1;32m-> 1891\u001b[1;33m         \u001b[0mself\u001b[0m\u001b[1;33m.\u001b[0m\u001b[0m_reader\u001b[0m \u001b[1;33m=\u001b[0m \u001b[0mparsers\u001b[0m\u001b[1;33m.\u001b[0m\u001b[0mTextReader\u001b[0m\u001b[1;33m(\u001b[0m\u001b[0msrc\u001b[0m\u001b[1;33m,\u001b[0m \u001b[1;33m**\u001b[0m\u001b[0mkwds\u001b[0m\u001b[1;33m)\u001b[0m\u001b[1;33m\u001b[0m\u001b[1;33m\u001b[0m\u001b[0m\n\u001b[0m\u001b[0;32m   1892\u001b[0m         \u001b[0mself\u001b[0m\u001b[1;33m.\u001b[0m\u001b[0munnamed_cols\u001b[0m \u001b[1;33m=\u001b[0m \u001b[0mself\u001b[0m\u001b[1;33m.\u001b[0m\u001b[0m_reader\u001b[0m\u001b[1;33m.\u001b[0m\u001b[0munnamed_cols\u001b[0m\u001b[1;33m\u001b[0m\u001b[1;33m\u001b[0m\u001b[0m\n\u001b[0;32m   1893\u001b[0m \u001b[1;33m\u001b[0m\u001b[0m\n",
      "\u001b[1;32mpandas\\_libs\\parsers.pyx\u001b[0m in \u001b[0;36mpandas._libs.parsers.TextReader.__cinit__\u001b[1;34m()\u001b[0m\n",
      "\u001b[1;32mpandas\\_libs\\parsers.pyx\u001b[0m in \u001b[0;36mpandas._libs.parsers.TextReader._setup_parser_source\u001b[1;34m()\u001b[0m\n",
      "\u001b[1;31mFileNotFoundError\u001b[0m: [Errno 2] File Data/Extraction 3/Clean data 4.csv does not exist: 'Data/Extraction 3/Clean data 4.csv'"
     ]
    }
   ],
   "source": [
    "df = pd.read_csv('Data/Extraction 3/Clean data 4.csv')\n",
    "df.head()"
   ]
  },
  {
   "cell_type": "code",
   "execution_count": null,
   "metadata": {},
   "outputs": [],
   "source": [
    "df.info()"
   ]
  },
  {
   "cell_type": "code",
   "execution_count": null,
   "metadata": {
    "scrolled": false
   },
   "outputs": [],
   "source": [
    "# for i in range(len(data.columns)):\n",
    "#     print(data.iloc[:,i].value_counts())    "
   ]
  },
  {
   "cell_type": "code",
   "execution_count": null,
   "metadata": {},
   "outputs": [],
   "source": [
    "# import seaborn as sb\n",
    "# corr = data.corr()\n",
    "# sb.heatmap(corr, cmap=\"Blues\", annot=True)"
   ]
  },
  {
   "cell_type": "code",
   "execution_count": null,
   "metadata": {
    "scrolled": true
   },
   "outputs": [],
   "source": [
    "# profile = ProfileReport(df, title='Pandas Profiling Report', explorative=True)\n",
    "# profile"
   ]
  },
  {
   "cell_type": "code",
   "execution_count": null,
   "metadata": {},
   "outputs": [],
   "source": [
    "# df['norm_duration'] = (df['duration'] - df['duration'].mean()) / df['duration'].std()\n",
    "# df['norm_duration'].describe()\n",
    "# hist = df['norm_duration'].value_counts().hist()"
   ]
  },
  {
   "cell_type": "code",
   "execution_count": null,
   "metadata": {},
   "outputs": [],
   "source": [
    "# le = LabelEncoder()\n",
    "# for i in ['device_type_used', 'service_source', 'type', 'service']:\n",
    "#     df[i] = le.fit_transform(df[i])\n",
    "# df_tot = df\n",
    "# df_tot.head(5)"
   ]
  },
  {
   "cell_type": "markdown",
   "metadata": {},
   "source": [
    "### Apriori Algorithm"
   ]
  },
  {
   "cell_type": "code",
   "execution_count": null,
   "metadata": {},
   "outputs": [],
   "source": [
    "def print_apyori_output (association_results):\n",
    "    for relation_record in association_results:\n",
    "        itemset = list(relation_record.items)\n",
    "        \n",
    "        # Consider only itemsets of two elements\n",
    "        if len(itemset) > 1: \n",
    "        \n",
    "            print(\"Rules involving itemset %s\" % itemset)\n",
    "            support = relation_record.support\n",
    "\n",
    "            for rules in relation_record.ordered_statistics:\n",
    "                antecedent = list(rules.items_base)\n",
    "                consequent = list(rules.items_add)\n",
    "                confidence = rules.confidence\n",
    "                lift = rules.lift\n",
    "\n",
    "                print(\"%s => %s (support=%.2f, confidence=%.2f, lift=%.2f)\" %\n",
    "                      (antecedent, consequent, support, confidence, lift))\n",
    "            print()"
   ]
  },
  {
   "cell_type": "code",
   "execution_count": null,
   "metadata": {},
   "outputs": [],
   "source": [
    "# # If we want to distinguish between 1st, 2nd, ... position use this\n",
    "# df_subthemes = df['program_subtheme'].str.split(',', expand=True)\n",
    "# df_subthemes = pd.get_dummies(data=df['program_subtheme'].str.split(',', expand=True)) # dummy_na = True ???\n",
    "\n",
    "# # If we do not care about position use this\n",
    "# df_subthemes = df['program_subtheme'].str.split(',', expand=True)\n",
    "# df_subthemes = pd.get_dummies(data=df['program_subtheme'].str.split(',', expand=True), prefix='', prefix_sep='')\n",
    "# df_subthemes = df_subthemes.groupby(df_subthemes.columns, axis=1).sum()\n",
    "\n",
    "# # Then we run this to get all of them\n",
    "# transactions = []\n",
    "# for recordnum, record in subthemes_list.iterrows():\n",
    "#     transact = []\n",
    "#     for column in subthemes_list.columns:      # For each column\n",
    "#         if record[column] != 0:              # If it has the subtheme\n",
    "#             transact.append(column)          # We append the subtheme to that transaction\n",
    "#     transactions.append(transact)            # We append the transaction to the list of transactions\n",
    "    \n",
    "# transactions"
   ]
  },
  {
   "cell_type": "code",
   "execution_count": null,
   "metadata": {},
   "outputs": [],
   "source": [
    "# This line is equivalent to all of the above\n",
    "transactions = df['program_subtheme'].str.split(',').to_list()\n",
    "transactions"
   ]
  },
  {
   "cell_type": "code",
   "execution_count": 24,
   "metadata": {},
   "outputs": [],
   "source": [
    "# df_subthemes = df['program_subtheme'].str.split(',', expand=True)\n",
    "# df_subthemes = pd.get_dummies(data=df['program_subtheme'].str.split(',', expand=True), prefix='', prefix_sep='')\n",
    "# df_subthemes = df_subthemes.groupby(df_subthemes.columns, axis=1).sum()"
   ]
  },
  {
   "cell_type": "code",
   "execution_count": 25,
   "metadata": {},
   "outputs": [],
   "source": [
    "# corr = df_subthemes.corr()\n",
    "# sns.heatmap(corr, cmap=\"Blues\", annot=False)\n",
    "# plt.savefig('corr.png')"
   ]
  },
  {
   "cell_type": "markdown",
   "metadata": {},
   "source": [
    "#### Example\n",
    "Support(News) = (Transactions containing (News)) / (Total Transactions)\n",
    "\n",
    "Support(Interview) = (Transactions containing (Interview)) / (Total Transactions)\n",
    "\n",
    "Confidence(News→Interview) = (Transactions containing both (News and Interview)) / (Transactions containing News) = 8/10 = 0.80\n",
    "\n",
    "Lift(News→Interview) = (Confidence (News→Interview)) / (Support (Interview)) = 0.8/0.75 = 1.07"
   ]
  },
  {
   "cell_type": "markdown",
   "metadata": {},
   "source": [
    "#### High-support rules"
   ]
  },
  {
   "cell_type": "code",
   "execution_count": 26,
   "metadata": {},
   "outputs": [
    {
     "name": "stdout",
     "output_type": "stream",
     "text": [
      "Rules involving itemset ['News', 'Interview']\n",
      "['Interview'] => ['News'] (support=0.12, confidence=0.57, lift=3.12)\n",
      "['News'] => ['Interview'] (support=0.12, confidence=0.67, lift=3.12)\n",
      "\n",
      "Rules involving itemset ['Interview', 'Politics']\n",
      "['Interview'] => ['Politics'] (support=0.11, confidence=0.50, lift=3.54)\n",
      "['Politics'] => ['Interview'] (support=0.11, confidence=0.76, lift=3.54)\n",
      "\n",
      "Rules involving itemset ['News', 'Politics']\n",
      "['News'] => ['Politics'] (support=0.12, confidence=0.65, lift=4.67)\n",
      "['Politics'] => ['News'] (support=0.12, confidence=0.85, lift=4.67)\n",
      "\n"
     ]
    }
   ],
   "source": [
    "results = apriori(transactions, min_support=0.1, min_confidence=0.49, min_lift=1)\n",
    "print_apyori_output(results)"
   ]
  },
  {
   "cell_type": "markdown",
   "metadata": {},
   "source": [
    "#### High-confidence rules"
   ]
  },
  {
   "cell_type": "code",
   "execution_count": 57,
   "metadata": {},
   "outputs": [
    {
     "name": "stdout",
     "output_type": "stream",
     "text": [
      "Rules involving itemset ['Drama', 'Soap']\n",
      "['Soap'] => ['Drama'] (support=0.04, confidence=0.91, lift=5.66)\n",
      "\n",
      "Rules involving itemset ['Current Events', 'News', 'Politics']\n",
      "['Current Events', 'Politics'] => ['News'] (support=0.03, confidence=0.98, lift=5.39)\n",
      "\n",
      "Rules involving itemset ['Reportage', 'Interview', 'Politics']\n",
      "['Reportage', 'Politics'] => ['Interview'] (support=0.03, confidence=1.00, lift=4.66)\n",
      "\n"
     ]
    }
   ],
   "source": [
    "results = apriori(transactions, min_support=0.025, min_confidence=0.9, min_lift=1)\n",
    "print_apyori_output(results)"
   ]
  },
  {
   "cell_type": "markdown",
   "metadata": {},
   "source": [
    "#### High-lift rules"
   ]
  },
  {
   "cell_type": "code",
   "execution_count": 61,
   "metadata": {},
   "outputs": [
    {
     "name": "stdout",
     "output_type": "stream",
     "text": [
      "Rules involving itemset ['Adventure', 'Animation']\n",
      "['Adventure'] => ['Animation'] (support=0.03, confidence=0.58, lift=9.91)\n",
      "['Animation'] => ['Adventure'] (support=0.03, confidence=0.50, lift=9.91)\n",
      "\n",
      "Rules involving itemset ['Animation', 'Children']\n",
      "['Children'] => ['Animation'] (support=0.02, confidence=0.74, lift=12.55)\n",
      "\n",
      "Rules involving itemset ['Business', 'Interview', 'Politics']\n",
      "['Business'] => ['Interview', 'Politics'] (support=0.02, confidence=0.87, lift=8.22)\n",
      "\n"
     ]
    }
   ],
   "source": [
    "results = apriori(transactions, min_support=0.023, min_confidence=0.5, min_lift=8)\n",
    "print_apyori_output(results)"
   ]
  },
  {
   "cell_type": "markdown",
   "metadata": {},
   "source": [
    "#### High-support & High-confidence rules"
   ]
  },
  {
   "cell_type": "code",
   "execution_count": 66,
   "metadata": {},
   "outputs": [
    {
     "name": "stdout",
     "output_type": "stream",
     "text": [
      "Rules involving itemset ['Current Events', 'News']\n",
      "['Current Events'] => ['News'] (support=0.05, confidence=0.85, lift=4.68)\n",
      "\n",
      "Rules involving itemset ['News', 'Politics']\n",
      "['Politics'] => ['News'] (support=0.12, confidence=0.85, lift=4.67)\n",
      "\n",
      "Rules involving itemset ['News', 'Interview', 'Politics']\n",
      "['Interview', 'Politics'] => ['News'] (support=0.09, confidence=0.88, lift=4.87)\n",
      "\n"
     ]
    }
   ],
   "source": [
    "results = apriori(transactions, min_support=0.04, min_confidence=0.8, min_lift=1)\n",
    "print_apyori_output(results)"
   ]
  },
  {
   "cell_type": "markdown",
   "metadata": {},
   "source": [
    "#### High-support & High-lift rules"
   ]
  },
  {
   "cell_type": "code",
   "execution_count": 29,
   "metadata": {},
   "outputs": [
    {
     "name": "stdout",
     "output_type": "stream",
     "text": [
      "Rules involving itemset ['Drama', 'Soap']\n",
      "['Drama'] => ['Soap'] (support=0.04, confidence=0.24, lift=5.66)\n",
      "['Soap'] => ['Drama'] (support=0.04, confidence=0.91, lift=5.66)\n",
      "\n",
      "Rules involving itemset ['News', 'Interview', 'Politics']\n",
      "['Politics'] => ['News', 'Interview'] (support=0.09, confidence=0.67, lift=5.53)\n",
      "['News', 'Interview'] => ['Politics'] (support=0.09, confidence=0.77, lift=5.53)\n",
      "\n"
     ]
    }
   ],
   "source": [
    "results = apriori(transactions, min_support=0.03, min_confidence=0.2, min_lift=5)\n",
    "print_apyori_output(results)"
   ]
  },
  {
   "cell_type": "markdown",
   "metadata": {},
   "source": [
    "#### High-confidence & High-lift rules"
   ]
  },
  {
   "cell_type": "code",
   "execution_count": 70,
   "metadata": {},
   "outputs": [
    {
     "name": "stdout",
     "output_type": "stream",
     "text": [
      "Rules involving itemset ['Business', 'Reportage', 'Interview', 'Politics']\n",
      "['Business', 'Interview'] => ['Politics', 'Reportage'] (support=0.02, confidence=0.94, lift=37.17)\n",
      "\n",
      "Rules involving itemset ['Business', 'News', 'Reportage', 'Politics']\n",
      "['Business', 'News'] => ['Politics', 'Reportage'] (support=0.02, confidence=0.96, lift=37.95)\n",
      "['News', 'Reportage', 'Politics'] => ['Business'] (support=0.02, confidence=0.96, lift=36.29)\n",
      "\n",
      "Rules involving itemset ['Business', 'News', 'Politics', 'Interview', 'Reportage']\n",
      "['Business', 'Interview'] => ['News', 'Reportage', 'Politics'] (support=0.02, confidence=0.94, lift=40.35)\n",
      "['Business', 'News'] => ['Reportage', 'Interview', 'Politics'] (support=0.02, confidence=0.96, lift=37.95)\n",
      "['Business', 'Politics'] => ['News', 'Interview', 'Reportage'] (support=0.02, confidence=0.96, lift=28.27)\n",
      "['Business', 'News', 'Interview'] => ['Reportage', 'Politics'] (support=0.02, confidence=0.97, lift=38.68)\n",
      "['News', 'Reportage', 'Politics'] => ['Business', 'Interview'] (support=0.02, confidence=0.96, lift=40.35)\n",
      "['News', 'Reportage', 'Interview', 'Politics'] => ['Business'] (support=0.02, confidence=0.96, lift=36.29)\n",
      "\n"
     ]
    }
   ],
   "source": [
    "results = apriori(transactions, min_support=0.02, min_confidence=0.9, min_lift=20)\n",
    "print_apyori_output(results)"
   ]
  },
  {
   "cell_type": "markdown",
   "metadata": {},
   "source": [
    "#### High-support & High-confidence & High-lift rules"
   ]
  },
  {
   "cell_type": "code",
   "execution_count": 111,
   "metadata": {},
   "outputs": [
    {
     "name": "stdout",
     "output_type": "stream",
     "text": [
      "Rules involving itemset ['Adventure', 'Animation']\n",
      "['Adventure'] => ['Animation'] (support=0.03, confidence=0.58, lift=9.91)\n",
      "['Animation'] => ['Adventure'] (support=0.03, confidence=0.50, lift=9.91)\n",
      "\n",
      "Rules involving itemset ['Drama', 'Soap']\n",
      "['Soap'] => ['Drama'] (support=0.04, confidence=0.91, lift=5.66)\n",
      "\n",
      "Rules involving itemset ['Current Events', 'News', 'Politics']\n",
      "['Current Events', 'Politics'] => ['News'] (support=0.03, confidence=0.98, lift=5.39)\n",
      "\n",
      "Rules involving itemset ['News', 'Interview', 'Politics']\n",
      "['Politics'] => ['News', 'Interview'] (support=0.09, confidence=0.67, lift=5.53)\n",
      "['News', 'Interview'] => ['Politics'] (support=0.09, confidence=0.77, lift=5.53)\n",
      "\n"
     ]
    }
   ],
   "source": [
    "results = apriori(transactions, min_support=0.026, min_confidence=0.5, min_lift=5)\n",
    "print_apyori_output(results)"
   ]
  },
  {
   "cell_type": "markdown",
   "metadata": {},
   "source": [
    "## Subtheme + Hour Transaction"
   ]
  },
  {
   "cell_type": "code",
   "execution_count": 75,
   "metadata": {},
   "outputs": [
    {
     "name": "stdout",
     "output_type": "stream",
     "text": [
      "Rules involving itemset ['Drama', 'Soap']\n",
      "['Soap'] => ['Drama'] (support=0.04, confidence=0.91, lift=5.66)\n",
      "\n",
      "Rules involving itemset ['News', '21', 'Politics']\n",
      "['News', '21'] => ['Politics'] (support=0.04, confidence=0.98, lift=7.02)\n",
      "['21', 'Politics'] => ['News'] (support=0.04, confidence=0.98, lift=5.41)\n",
      "\n",
      "Rules involving itemset ['News', 'Interview', 'Politics']\n",
      "['Politics'] => ['News', 'Interview'] (support=0.09, confidence=0.67, lift=5.53)\n",
      "['News', 'Interview'] => ['Politics'] (support=0.09, confidence=0.77, lift=5.53)\n",
      "\n"
     ]
    }
   ],
   "source": [
    "df_hour = df['date_time_start'].astype('datetime64').dt.hour.astype(str)\n",
    "df_subtheme = df['program_subtheme']\n",
    "\n",
    "hour_subtheme_df = df_hour + ',' + df['program_subtheme']\n",
    "hour_subtheme_transactions = hour_subtheme_df.str.split(',').to_list()\n",
    "\n",
    "results = apriori(hour_subtheme_transactions, min_support=0.035, min_confidence=0.5, min_lift=5)\n",
    "print_apyori_output(results)"
   ]
  },
  {
   "cell_type": "markdown",
   "metadata": {},
   "source": [
    "## Subtheme + Day of Week Transaction"
   ]
  },
  {
   "cell_type": "code",
   "execution_count": 81,
   "metadata": {},
   "outputs": [
    {
     "name": "stdout",
     "output_type": "stream",
     "text": [
      "Rules involving itemset ['Drama', 'Comedy']\n",
      "['Comedy'] => ['Drama'] (support=0.04, confidence=0.44, lift=2.74)\n",
      "['Drama'] => ['Comedy'] (support=0.04, confidence=0.24, lift=2.74)\n",
      "\n",
      "Rules involving itemset ['Current Events', 'News']\n",
      "['Current Events'] => ['News'] (support=0.05, confidence=0.85, lift=4.68)\n",
      "['News'] => ['Current Events'] (support=0.05, confidence=0.26, lift=4.68)\n",
      "\n",
      "Rules involving itemset ['Drama', 'Soap']\n",
      "['Drama'] => ['Soap'] (support=0.04, confidence=0.24, lift=5.66)\n",
      "['Soap'] => ['Drama'] (support=0.04, confidence=0.91, lift=5.66)\n",
      "\n",
      "Rules involving itemset ['Drama', 'Tuesday']\n",
      "['Tuesday'] => ['Drama'] (support=0.03, confidence=0.20, lift=1.27)\n",
      "\n",
      "Rules involving itemset ['Friday', 'Interview']\n",
      "['Friday'] => ['Interview'] (support=0.03, confidence=0.24, lift=1.11)\n",
      "\n",
      "Rules involving itemset ['Monday', 'Interview']\n",
      "['Monday'] => ['Interview'] (support=0.03, confidence=0.22, lift=1.01)\n",
      "\n",
      "Rules involving itemset ['News', 'Interview']\n",
      "['Interview'] => ['News'] (support=0.12, confidence=0.57, lift=3.12)\n",
      "['News'] => ['Interview'] (support=0.12, confidence=0.67, lift=3.12)\n",
      "\n",
      "Rules involving itemset ['Interview', 'Politics']\n",
      "['Interview'] => ['Politics'] (support=0.11, confidence=0.50, lift=3.54)\n",
      "['Politics'] => ['Interview'] (support=0.11, confidence=0.76, lift=3.54)\n",
      "\n",
      "Rules involving itemset ['Interview', 'Reportage']\n",
      "['Interview'] => ['Reportage'] (support=0.06, confidence=0.27, lift=3.57)\n",
      "['Reportage'] => ['Interview'] (support=0.06, confidence=0.77, lift=3.57)\n",
      "\n",
      "Rules involving itemset ['Interview', 'Thursday']\n",
      "['Thursday'] => ['Interview'] (support=0.04, confidence=0.23, lift=1.08)\n",
      "\n",
      "Rules involving itemset ['Tuesday', 'Interview']\n",
      "['Tuesday'] => ['Interview'] (support=0.03, confidence=0.22, lift=1.04)\n",
      "\n",
      "Rules involving itemset ['Wednesday', 'Interview']\n",
      "['Wednesday'] => ['Interview'] (support=0.03, confidence=0.22, lift=1.04)\n",
      "\n",
      "Rules involving itemset ['News', 'Politics']\n",
      "['News'] => ['Politics'] (support=0.12, confidence=0.65, lift=4.67)\n",
      "['Politics'] => ['News'] (support=0.12, confidence=0.85, lift=4.67)\n",
      "\n",
      "Rules involving itemset ['News', 'Reportage']\n",
      "['News'] => ['Reportage'] (support=0.05, confidence=0.28, lift=3.66)\n",
      "['Reportage'] => ['News'] (support=0.05, confidence=0.66, lift=3.66)\n",
      "\n",
      "Rules involving itemset ['News', 'Sunday']\n",
      "['Sunday'] => ['News'] (support=0.03, confidence=0.20, lift=1.10)\n",
      "\n",
      "Rules involving itemset ['Sunday', 'Politics']\n",
      "['Politics'] => ['Sunday'] (support=0.03, confidence=0.22, lift=1.49)\n",
      "['Sunday'] => ['Politics'] (support=0.03, confidence=0.21, lift=1.49)\n",
      "\n",
      "Rules involving itemset ['News', 'Interview', 'Politics']\n",
      "['Interview'] => ['News', 'Politics'] (support=0.09, confidence=0.44, lift=3.69)\n",
      "['News'] => ['Interview', 'Politics'] (support=0.09, confidence=0.52, lift=4.87)\n",
      "['Politics'] => ['News', 'Interview'] (support=0.09, confidence=0.67, lift=5.53)\n",
      "['News', 'Interview'] => ['Politics'] (support=0.09, confidence=0.77, lift=5.53)\n",
      "['Interview', 'Politics'] => ['News'] (support=0.09, confidence=0.88, lift=4.87)\n",
      "['News', 'Politics'] => ['Interview'] (support=0.09, confidence=0.79, lift=3.69)\n",
      "\n",
      "Rules involving itemset ['News', 'Interview', 'Reportage']\n",
      "['Reportage'] => ['News', 'Interview'] (support=0.03, confidence=0.44, lift=3.66)\n",
      "['News', 'Interview'] => ['Reportage'] (support=0.03, confidence=0.28, lift=3.66)\n",
      "['Interview', 'Reportage'] => ['News'] (support=0.03, confidence=0.58, lift=3.19)\n",
      "['News', 'Reportage'] => ['Interview'] (support=0.03, confidence=0.67, lift=3.12)\n",
      "\n"
     ]
    }
   ],
   "source": [
    "df_day = df['date_time_start'].astype('datetime64').dt.day_name()\n",
    "day_subtheme_df = df_day + ',' + df['program_subtheme']\n",
    "day_subtheme_transactions = day_subtheme_df.str.split(',').to_list()\n",
    "\n",
    "results = apriori(day_subtheme_transactions, min_support=0.03, min_confidence=0.2, min_lift=1)\n",
    "print_apyori_output(results)"
   ]
  },
  {
   "cell_type": "markdown",
   "metadata": {},
   "source": [
    "## Subtheme + Hour start + Day of Week Transaction"
   ]
  },
  {
   "cell_type": "code",
   "execution_count": 113,
   "metadata": {},
   "outputs": [
    {
     "name": "stdout",
     "output_type": "stream",
     "text": [
      "Rules involving itemset ['News', '21']\n",
      "['21'] => ['News'] (support=0.04, confidence=0.46, lift=2.53)\n",
      "['News'] => ['21'] (support=0.04, confidence=0.22, lift=2.53)\n",
      "\n",
      "Rules involving itemset ['21', 'Politics']\n",
      "['21'] => ['Politics'] (support=0.04, confidence=0.46, lift=3.28)\n",
      "['Politics'] => ['21'] (support=0.04, confidence=0.29, lift=3.28)\n",
      "\n",
      "Rules involving itemset ['Drama', 'Comedy']\n",
      "['Comedy'] => ['Drama'] (support=0.04, confidence=0.44, lift=2.74)\n",
      "['Drama'] => ['Comedy'] (support=0.04, confidence=0.24, lift=2.74)\n",
      "\n",
      "Rules involving itemset ['Current Events', 'News']\n",
      "['Current Events'] => ['News'] (support=0.05, confidence=0.85, lift=4.68)\n",
      "['News'] => ['Current Events'] (support=0.05, confidence=0.26, lift=4.68)\n",
      "\n",
      "Rules involving itemset ['Drama', 'Soap']\n",
      "['Drama'] => ['Soap'] (support=0.04, confidence=0.24, lift=5.66)\n",
      "['Soap'] => ['Drama'] (support=0.04, confidence=0.91, lift=5.66)\n",
      "\n",
      "Rules involving itemset ['News', 'Interview']\n",
      "['Interview'] => ['News'] (support=0.12, confidence=0.57, lift=3.12)\n",
      "['News'] => ['Interview'] (support=0.12, confidence=0.67, lift=3.12)\n",
      "\n",
      "Rules involving itemset ['Interview', 'Politics']\n",
      "['Interview'] => ['Politics'] (support=0.11, confidence=0.50, lift=3.54)\n",
      "['Politics'] => ['Interview'] (support=0.11, confidence=0.76, lift=3.54)\n",
      "\n",
      "Rules involving itemset ['Interview', 'Reportage']\n",
      "['Interview'] => ['Reportage'] (support=0.06, confidence=0.27, lift=3.57)\n",
      "['Reportage'] => ['Interview'] (support=0.06, confidence=0.77, lift=3.57)\n",
      "\n",
      "Rules involving itemset ['Interview', 'Thursday']\n",
      "['Thursday'] => ['Interview'] (support=0.04, confidence=0.23, lift=1.08)\n",
      "\n",
      "Rules involving itemset ['News', 'Politics']\n",
      "['News'] => ['Politics'] (support=0.12, confidence=0.65, lift=4.67)\n",
      "['Politics'] => ['News'] (support=0.12, confidence=0.85, lift=4.67)\n",
      "\n",
      "Rules involving itemset ['News', 'Reportage']\n",
      "['News'] => ['Reportage'] (support=0.05, confidence=0.28, lift=3.66)\n",
      "['Reportage'] => ['News'] (support=0.05, confidence=0.66, lift=3.66)\n",
      "\n",
      "Rules involving itemset ['News', '21', 'Politics']\n",
      "['21'] => ['News', 'Politics'] (support=0.04, confidence=0.45, lift=3.81)\n",
      "['News'] => ['21', 'Politics'] (support=0.04, confidence=0.22, lift=5.41)\n",
      "['Politics'] => ['21', 'News'] (support=0.04, confidence=0.29, lift=7.02)\n",
      "['News', '21'] => ['Politics'] (support=0.04, confidence=0.98, lift=7.02)\n",
      "['21', 'Politics'] => ['News'] (support=0.04, confidence=0.98, lift=5.41)\n",
      "['News', 'Politics'] => ['21'] (support=0.04, confidence=0.34, lift=3.81)\n",
      "\n",
      "Rules involving itemset ['News', 'Interview', 'Politics']\n",
      "['Interview'] => ['News', 'Politics'] (support=0.09, confidence=0.44, lift=3.69)\n",
      "['News'] => ['Interview', 'Politics'] (support=0.09, confidence=0.52, lift=4.87)\n",
      "['Politics'] => ['News', 'Interview'] (support=0.09, confidence=0.67, lift=5.53)\n",
      "['News', 'Interview'] => ['Politics'] (support=0.09, confidence=0.77, lift=5.53)\n",
      "['Interview', 'Politics'] => ['News'] (support=0.09, confidence=0.88, lift=4.87)\n",
      "['News', 'Politics'] => ['Interview'] (support=0.09, confidence=0.79, lift=3.69)\n",
      "\n"
     ]
    }
   ],
   "source": [
    "day_hour_subtheme_df = df_day + ',' + df_hour + ',' + df['program_subtheme']\n",
    "day_hour_subtheme_transactions = day_hour_subtheme_df.str.split(',').to_list()\n",
    "\n",
    "results = apriori(day_hour_subtheme_transactions, min_support=0.035, min_confidence=0.2, min_lift=1)\n",
    "print_apyori_output(results)"
   ]
  },
  {
   "cell_type": "markdown",
   "metadata": {},
   "source": [
    "## Subtheme + Device Transaction"
   ]
  },
  {
   "cell_type": "code",
   "execution_count": 98,
   "metadata": {},
   "outputs": [
    {
     "name": "stdout",
     "output_type": "stream",
     "text": [
      "Rules involving itemset ['Current Events', 'News']\n",
      "['Current Events'] => ['News'] (support=0.05, confidence=0.85, lift=4.68)\n",
      "\n",
      "Rules involving itemset ['Drama', 'Soap']\n",
      "['Soap'] => ['Drama'] (support=0.04, confidence=0.91, lift=5.66)\n",
      "\n",
      "Rules involving itemset ['News', 'Politics']\n",
      "['Politics'] => ['News'] (support=0.12, confidence=0.85, lift=4.67)\n",
      "\n",
      "Rules involving itemset ['News', 'Interview', 'Politics']\n",
      "['Interview', 'Politics'] => ['News'] (support=0.09, confidence=0.88, lift=4.87)\n",
      "\n",
      "Rules involving itemset ['News', 'STB IPTV', 'Politics']\n",
      "['STB IPTV', 'Politics'] => ['News'] (support=0.06, confidence=0.86, lift=4.71)\n",
      "\n",
      "Rules involving itemset ['TV', 'News', 'Politics']\n",
      "['TV', 'Politics'] => ['News'] (support=0.05, confidence=0.84, lift=4.63)\n",
      "\n",
      "Rules involving itemset ['News', 'STB IPTV', 'Interview', 'Politics']\n",
      "['STB IPTV', 'Interview', 'Politics'] => ['News'] (support=0.04, confidence=0.88, lift=4.87)\n",
      "\n",
      "Rules involving itemset ['TV', 'News', 'Interview', 'Politics']\n",
      "['TV', 'Interview', 'Politics'] => ['News'] (support=0.04, confidence=0.88, lift=4.86)\n",
      "\n"
     ]
    }
   ],
   "source": [
    "device_subtheme_df = df['device_type_used'] + ',' + df['program_subtheme']\n",
    "device_subtheme_transactions = device_subtheme_df.str.split(',').to_list()\n",
    "\n",
    "results = apriori(device_subtheme_transactions, min_support=0.03, min_confidence=0.8, min_lift=1)\n",
    "print_apyori_output(results)"
   ]
  },
  {
   "cell_type": "markdown",
   "metadata": {},
   "source": [
    "## Subtheme + Device + Hour Transaction"
   ]
  },
  {
   "cell_type": "code",
   "execution_count": 85,
   "metadata": {},
   "outputs": [
    {
     "name": "stdout",
     "output_type": "stream",
     "text": [
      "Rules involving itemset ['TV', '0']\n",
      "['0'] => ['TV'] (support=0.03, confidence=0.50, lift=1.05)\n",
      "\n",
      "Rules involving itemset ['10', 'TV']\n",
      "['10'] => ['TV'] (support=0.02, confidence=0.59, lift=1.21)\n",
      "\n",
      "Rules involving itemset ['News', '13']\n",
      "['13'] => ['News'] (support=0.02, confidence=0.53, lift=2.92)\n",
      "\n",
      "Rules involving itemset ['TV', '14']\n",
      "['14'] => ['TV'] (support=0.02, confidence=0.53, lift=1.10)\n",
      "\n",
      "Rules involving itemset ['15', 'TV']\n",
      "['15'] => ['TV'] (support=0.03, confidence=0.51, lift=1.06)\n",
      "\n",
      "Rules involving itemset ['21', 'STB IPTV']\n",
      "['21'] => ['STB IPTV'] (support=0.06, confidence=0.63, lift=1.40)\n",
      "\n",
      "Rules involving itemset ['STB IPTV', 'Action']\n",
      "['Action'] => ['STB IPTV'] (support=0.03, confidence=0.53, lift=1.18)\n",
      "\n",
      "Rules involving itemset ['Adventure', 'Animation']\n",
      "['Adventure'] => ['Animation'] (support=0.03, confidence=0.58, lift=9.91)\n",
      "['Animation'] => ['Adventure'] (support=0.03, confidence=0.50, lift=9.91)\n",
      "\n",
      "Rules involving itemset ['Adventure', 'STB IPTV']\n",
      "['Adventure'] => ['STB IPTV'] (support=0.03, confidence=0.55, lift=1.22)\n",
      "\n",
      "Rules involving itemset ['Cartoons', 'Animation']\n",
      "['Cartoons'] => ['Animation'] (support=0.02, confidence=0.73, lift=12.50)\n",
      "\n",
      "Rules involving itemset ['Animation', 'Children']\n",
      "['Children'] => ['Animation'] (support=0.02, confidence=0.74, lift=12.55)\n",
      "\n",
      "Rules involving itemset ['STB IPTV', 'Animation']\n",
      "['Animation'] => ['STB IPTV'] (support=0.03, confidence=0.52, lift=1.17)\n",
      "\n",
      "Rules involving itemset ['Business', 'Interview']\n",
      "['Business'] => ['Interview'] (support=0.02, confidence=0.90, lift=4.19)\n",
      "\n",
      "Rules involving itemset ['Business', 'News']\n",
      "['Business'] => ['News'] (support=0.02, confidence=0.88, lift=4.84)\n",
      "\n",
      "Rules involving itemset ['Business', 'Politics']\n",
      "['Business'] => ['Politics'] (support=0.02, confidence=0.87, lift=6.24)\n",
      "\n",
      "Rules involving itemset ['Business', 'Reportage']\n",
      "['Business'] => ['Reportage'] (support=0.02, confidence=0.85, lift=11.05)\n",
      "\n",
      "Rules involving itemset ['Crime', 'Drama']\n",
      "['Crime'] => ['Drama'] (support=0.02, confidence=0.55, lift=3.38)\n",
      "\n",
      "Rules involving itemset ['Current Events', 'News']\n",
      "['Current Events'] => ['News'] (support=0.05, confidence=0.85, lift=4.68)\n",
      "\n",
      "Rules involving itemset ['Drama', 'Soap']\n",
      "['Soap'] => ['Drama'] (support=0.04, confidence=0.91, lift=5.66)\n",
      "\n",
      "Rules involving itemset ['Educational', 'STB IPTV']\n",
      "['Educational'] => ['STB IPTV'] (support=0.03, confidence=0.51, lift=1.15)\n",
      "\n",
      "Rules involving itemset ['News', 'Interview']\n",
      "['Interview'] => ['News'] (support=0.12, confidence=0.57, lift=3.12)\n",
      "['News'] => ['Interview'] (support=0.12, confidence=0.67, lift=3.12)\n",
      "\n",
      "Rules involving itemset ['Interview', 'Politics']\n",
      "['Politics'] => ['Interview'] (support=0.11, confidence=0.76, lift=3.54)\n",
      "\n",
      "Rules involving itemset ['Interview', 'Reportage']\n",
      "['Reportage'] => ['Interview'] (support=0.06, confidence=0.77, lift=3.57)\n",
      "\n",
      "Rules involving itemset ['News', 'Politics']\n",
      "['News'] => ['Politics'] (support=0.12, confidence=0.65, lift=4.67)\n",
      "['Politics'] => ['News'] (support=0.12, confidence=0.85, lift=4.67)\n",
      "\n",
      "Rules involving itemset ['News', 'Reportage']\n",
      "['Reportage'] => ['News'] (support=0.05, confidence=0.66, lift=3.66)\n",
      "\n",
      "Rules involving itemset ['TV', 'Soccer']\n",
      "['Soccer'] => ['TV'] (support=0.03, confidence=0.53, lift=1.10)\n",
      "\n",
      "Rules involving itemset ['TV', 'Sports']\n",
      "['Sports'] => ['TV'] (support=0.03, confidence=0.53, lift=1.10)\n",
      "\n",
      "Rules involving itemset ['News', '21', 'Interview']\n",
      "['21', 'Interview'] => ['News'] (support=0.03, confidence=0.93, lift=5.11)\n",
      "['News', '21'] => ['Interview'] (support=0.03, confidence=0.78, lift=3.62)\n",
      "\n",
      "Rules involving itemset ['21', 'Interview', 'Politics']\n",
      "['21', 'Interview'] => ['Politics'] (support=0.03, confidence=0.93, lift=6.62)\n",
      "['21', 'Politics'] => ['Interview'] (support=0.03, confidence=0.78, lift=3.62)\n",
      "\n",
      "Rules involving itemset ['News', '21', 'Politics']\n",
      "['News', '21'] => ['Politics'] (support=0.04, confidence=0.98, lift=7.02)\n",
      "['21', 'Politics'] => ['News'] (support=0.04, confidence=0.98, lift=5.41)\n",
      "\n",
      "Rules involving itemset ['News', '21', 'STB IPTV']\n",
      "['News', '21'] => ['STB IPTV'] (support=0.02, confidence=0.57, lift=1.27)\n",
      "\n",
      "Rules involving itemset ['21', 'STB IPTV', 'Politics']\n",
      "['21', 'Politics'] => ['STB IPTV'] (support=0.02, confidence=0.58, lift=1.28)\n",
      "\n",
      "Rules involving itemset ['Business', 'News', 'Interview']\n",
      "['Business'] => ['News', 'Interview'] (support=0.02, confidence=0.86, lift=7.11)\n",
      "['Business', 'Interview'] => ['News'] (support=0.02, confidence=0.96, lift=5.29)\n",
      "['Business', 'News'] => ['Interview'] (support=0.02, confidence=0.98, lift=4.58)\n",
      "\n",
      "Rules involving itemset ['Business', 'Interview', 'Politics']\n",
      "['Business'] => ['Interview', 'Politics'] (support=0.02, confidence=0.87, lift=8.22)\n",
      "['Business', 'Interview'] => ['Politics'] (support=0.02, confidence=0.97, lift=6.93)\n",
      "['Business', 'Politics'] => ['Interview'] (support=0.02, confidence=1.00, lift=4.66)\n",
      "\n",
      "Rules involving itemset ['Business', 'Interview', 'Reportage']\n",
      "['Business'] => ['Interview', 'Reportage'] (support=0.02, confidence=0.85, lift=14.39)\n",
      "['Business', 'Interview'] => ['Reportage'] (support=0.02, confidence=0.94, lift=12.25)\n",
      "['Business', 'Reportage'] => ['Interview'] (support=0.02, confidence=1.00, lift=4.65)\n",
      "\n",
      "Rules involving itemset ['Business', 'News', 'Politics']\n",
      "['Business'] => ['News', 'Politics'] (support=0.02, confidence=0.85, lift=7.14)\n",
      "['Business', 'News'] => ['Politics'] (support=0.02, confidence=0.96, lift=6.88)\n",
      "['Business', 'Politics'] => ['News'] (support=0.02, confidence=0.97, lift=5.35)\n",
      "\n",
      "Rules involving itemset ['Business', 'News', 'Reportage']\n",
      "['Business'] => ['News', 'Reportage'] (support=0.02, confidence=0.85, lift=16.61)\n",
      "['Business', 'News'] => ['Reportage'] (support=0.02, confidence=0.96, lift=12.54)\n",
      "['Business', 'Reportage'] => ['News'] (support=0.02, confidence=1.00, lift=5.50)\n",
      "\n",
      "Rules involving itemset ['Business', 'Reportage', 'Politics']\n",
      "['Business'] => ['Politics', 'Reportage'] (support=0.02, confidence=0.84, lift=33.43)\n",
      "['Business', 'Politics'] => ['Reportage'] (support=0.02, confidence=0.96, lift=12.57)\n",
      "['Business', 'Reportage'] => ['Politics'] (support=0.02, confidence=0.99, lift=7.09)\n",
      "['Reportage', 'Politics'] => ['Business'] (support=0.02, confidence=0.88, lift=33.43)\n",
      "\n",
      "Rules involving itemset ['Current Events', 'News', 'Politics']\n",
      "['Current Events', 'News'] => ['Politics'] (support=0.03, confidence=0.57, lift=4.03)\n",
      "['Current Events', 'Politics'] => ['News'] (support=0.03, confidence=0.98, lift=5.39)\n",
      "\n",
      "Rules involving itemset ['Current Events', 'News', 'STB IPTV']\n",
      "['Current Events', 'STB IPTV'] => ['News'] (support=0.02, confidence=0.85, lift=4.69)\n",
      "\n",
      "Rules involving itemset ['Current Events', 'TV', 'News']\n",
      "['Current Events', 'TV'] => ['News'] (support=0.02, confidence=0.85, lift=4.69)\n",
      "\n",
      "Rules involving itemset ['News', 'Interview', 'Politics']\n",
      "['News'] => ['Interview', 'Politics'] (support=0.09, confidence=0.52, lift=4.87)\n",
      "['Politics'] => ['News', 'Interview'] (support=0.09, confidence=0.67, lift=5.53)\n",
      "['News', 'Interview'] => ['Politics'] (support=0.09, confidence=0.77, lift=5.53)\n",
      "['Interview', 'Politics'] => ['News'] (support=0.09, confidence=0.88, lift=4.87)\n",
      "['News', 'Politics'] => ['Interview'] (support=0.09, confidence=0.79, lift=3.69)\n",
      "\n",
      "Rules involving itemset ['News', 'Interview', 'Reportage']\n",
      "['Interview', 'Reportage'] => ['News'] (support=0.03, confidence=0.58, lift=3.19)\n",
      "['News', 'Reportage'] => ['Interview'] (support=0.03, confidence=0.67, lift=3.12)\n",
      "\n",
      "Rules involving itemset ['News', 'STB IPTV', 'Interview']\n",
      "['STB IPTV', 'Interview'] => ['News'] (support=0.06, confidence=0.62, lift=3.41)\n",
      "['News', 'STB IPTV'] => ['Interview'] (support=0.06, confidence=0.69, lift=3.21)\n",
      "\n",
      "Rules involving itemset ['TV', 'News', 'Interview']\n",
      "['TV', 'Interview'] => ['News'] (support=0.06, confidence=0.54, lift=2.96)\n",
      "['TV', 'News'] => ['Interview'] (support=0.06, confidence=0.65, lift=3.04)\n",
      "\n",
      "Rules involving itemset ['Reportage', 'Interview', 'Politics']\n",
      "['Reportage', 'Politics'] => ['Interview'] (support=0.03, confidence=1.00, lift=4.66)\n",
      "\n",
      "Rules involving itemset ['STB IPTV', 'Interview', 'Politics']\n",
      "['STB IPTV', 'Interview'] => ['Politics'] (support=0.05, confidence=0.54, lift=3.88)\n",
      "['STB IPTV', 'Politics'] => ['Interview'] (support=0.05, confidence=0.76, lift=3.55)\n",
      "\n",
      "Rules involving itemset ['TV', 'Interview', 'Politics']\n",
      "['TV', 'Politics'] => ['Interview'] (support=0.05, confidence=0.76, lift=3.53)\n",
      "\n",
      "Rules involving itemset ['STB IPTV', 'Interview', 'Reportage']\n",
      "['STB IPTV', 'Reportage'] => ['Interview'] (support=0.03, confidence=0.83, lift=3.85)\n",
      "\n",
      "Rules involving itemset ['TV', 'Interview', 'Reportage']\n",
      "['TV', 'Reportage'] => ['Interview'] (support=0.03, confidence=0.71, lift=3.33)\n",
      "\n",
      "Rules involving itemset ['News', 'Reportage', 'Politics']\n",
      "['Reportage', 'Politics'] => ['News'] (support=0.02, confidence=0.92, lift=5.07)\n",
      "\n",
      "Rules involving itemset ['News', 'STB IPTV', 'Politics']\n",
      "['News', 'STB IPTV'] => ['Politics'] (support=0.06, confidence=0.68, lift=4.86)\n",
      "['STB IPTV', 'Politics'] => ['News'] (support=0.06, confidence=0.86, lift=4.71)\n",
      "\n",
      "Rules involving itemset ['TV', 'News', 'Politics']\n",
      "['TV', 'News'] => ['Politics'] (support=0.05, confidence=0.63, lift=4.52)\n",
      "['TV', 'Politics'] => ['News'] (support=0.05, confidence=0.84, lift=4.63)\n",
      "\n",
      "Rules involving itemset ['News', 'STB IPTV', 'Reportage']\n",
      "['STB IPTV', 'Reportage'] => ['News'] (support=0.02, confidence=0.70, lift=3.88)\n",
      "\n",
      "Rules involving itemset ['TV', 'News', 'Reportage']\n",
      "['TV', 'Reportage'] => ['News'] (support=0.02, confidence=0.64, lift=3.54)\n",
      "\n",
      "Rules involving itemset ['News', '21', 'Interview', 'Politics']\n",
      "['21', 'Interview'] => ['News', 'Politics'] (support=0.03, confidence=0.93, lift=7.78)\n",
      "['News', '21'] => ['Interview', 'Politics'] (support=0.03, confidence=0.77, lift=7.27)\n",
      "['21', 'Politics'] => ['News', 'Interview'] (support=0.03, confidence=0.77, lift=6.36)\n",
      "['News', '21', 'Interview'] => ['Politics'] (support=0.03, confidence=1.00, lift=7.11)\n",
      "['21', 'Interview', 'Politics'] => ['News'] (support=0.03, confidence=1.00, lift=5.48)\n",
      "['News', '21', 'Politics'] => ['Interview'] (support=0.03, confidence=0.79, lift=3.66)\n",
      "\n",
      "Rules involving itemset ['News', '21', 'STB IPTV', 'Politics']\n",
      "['News', '21'] => ['STB IPTV', 'Politics'] (support=0.02, confidence=0.56, lift=8.62)\n",
      "['21', 'Politics'] => ['News', 'STB IPTV'] (support=0.02, confidence=0.56, lift=6.86)\n",
      "['News', '21', 'Politics'] => ['STB IPTV'] (support=0.02, confidence=0.57, lift=1.27)\n",
      "['News', '21', 'STB IPTV'] => ['Politics'] (support=0.02, confidence=0.98, lift=7.00)\n",
      "['21', 'STB IPTV', 'Politics'] => ['News'] (support=0.02, confidence=0.97, lift=5.35)\n",
      "\n"
     ]
    },
    {
     "name": "stdout",
     "output_type": "stream",
     "text": [
      "Rules involving itemset ['Business', 'News', 'Interview', 'Politics']\n",
      "['Business'] => ['News', 'Interview', 'Politics'] (support=0.02, confidence=0.85, lift=9.02)\n",
      "['Business', 'Interview'] => ['News', 'Politics'] (support=0.02, confidence=0.94, lift=7.93)\n",
      "['Business', 'News'] => ['Interview', 'Politics'] (support=0.02, confidence=0.96, lift=9.07)\n",
      "['Business', 'Politics'] => ['News', 'Interview'] (support=0.02, confidence=0.97, lift=8.00)\n",
      "['Business', 'News', 'Interview'] => ['Politics'] (support=0.02, confidence=0.98, lift=7.01)\n",
      "['Business', 'Interview', 'Politics'] => ['News'] (support=0.02, confidence=0.97, lift=5.35)\n",
      "['Business', 'News', 'Politics'] => ['Interview'] (support=0.02, confidence=1.00, lift=4.66)\n",
      "\n",
      "Rules involving itemset ['Business', 'News', 'Interview', 'Reportage']\n",
      "['Business'] => ['News', 'Interview', 'Reportage'] (support=0.02, confidence=0.84, lift=24.79)\n",
      "['Business', 'Interview'] => ['News', 'Reportage'] (support=0.02, confidence=0.94, lift=18.42)\n",
      "['Business', 'News'] => ['Interview', 'Reportage'] (support=0.02, confidence=0.96, lift=16.33)\n",
      "['Business', 'Reportage'] => ['News', 'Interview'] (support=0.02, confidence=1.00, lift=8.20)\n",
      "['Business', 'News', 'Interview'] => ['Reportage'] (support=0.02, confidence=0.98, lift=12.75)\n",
      "['Business', 'Interview', 'Reportage'] => ['News'] (support=0.02, confidence=1.00, lift=5.50)\n",
      "['Business', 'News', 'Reportage'] => ['Interview'] (support=0.02, confidence=1.00, lift=4.65)\n",
      "['News', 'Interview', 'Reportage'] => ['Business'] (support=0.02, confidence=0.65, lift=24.79)\n",
      "\n",
      "Rules involving itemset ['Business', 'Reportage', 'Interview', 'Politics']\n",
      "['Business'] => ['Politics', 'Interview', 'Reportage'] (support=0.02, confidence=0.84, lift=33.43)\n",
      "['Business', 'Interview'] => ['Politics', 'Reportage'] (support=0.02, confidence=0.94, lift=37.17)\n",
      "['Business', 'Politics'] => ['Interview', 'Reportage'] (support=0.02, confidence=0.96, lift=16.41)\n",
      "['Business', 'Reportage'] => ['Interview', 'Politics'] (support=0.02, confidence=0.99, lift=9.35)\n",
      "['Reportage', 'Politics'] => ['Business', 'Interview'] (support=0.02, confidence=0.88, lift=37.17)\n",
      "['Business', 'Interview', 'Politics'] => ['Reportage'] (support=0.02, confidence=0.96, lift=12.57)\n",
      "['Business', 'Interview', 'Reportage'] => ['Politics'] (support=0.02, confidence=1.00, lift=7.11)\n",
      "['Business', 'Reportage', 'Politics'] => ['Interview'] (support=0.02, confidence=1.00, lift=4.66)\n",
      "['Reportage', 'Interview', 'Politics'] => ['Business'] (support=0.02, confidence=0.88, lift=33.43)\n",
      "\n",
      "Rules involving itemset ['Business', 'News', 'Reportage', 'Politics']\n",
      "['Business'] => ['Politics', 'News', 'Reportage'] (support=0.02, confidence=0.84, lift=36.29)\n",
      "['Business', 'News'] => ['Politics', 'Reportage'] (support=0.02, confidence=0.96, lift=37.95)\n",
      "['Business', 'Politics'] => ['News', 'Reportage'] (support=0.02, confidence=0.96, lift=18.90)\n",
      "['Business', 'Reportage'] => ['News', 'Politics'] (support=0.02, confidence=0.99, lift=8.35)\n",
      "['Reportage', 'Politics'] => ['Business', 'News'] (support=0.02, confidence=0.88, lift=37.95)\n",
      "['Business', 'News', 'Politics'] => ['Reportage'] (support=0.02, confidence=0.99, lift=12.93)\n",
      "['Business', 'News', 'Reportage'] => ['Politics'] (support=0.02, confidence=0.99, lift=7.09)\n",
      "['Business', 'Reportage', 'Politics'] => ['News'] (support=0.02, confidence=1.00, lift=5.50)\n",
      "['News', 'Reportage', 'Politics'] => ['Business'] (support=0.02, confidence=0.96, lift=36.29)\n",
      "\n",
      "Rules involving itemset ['News', 'Reportage', 'Interview', 'Politics']\n",
      "['Reportage', 'Politics'] => ['News', 'Interview'] (support=0.02, confidence=0.92, lift=7.58)\n",
      "['News', 'Interview', 'Reportage'] => ['Politics'] (support=0.02, confidence=0.68, lift=4.86)\n",
      "['Reportage', 'Interview', 'Politics'] => ['News'] (support=0.02, confidence=0.92, lift=5.07)\n",
      "['News', 'Reportage', 'Politics'] => ['Interview'] (support=0.02, confidence=1.00, lift=4.66)\n",
      "\n",
      "Rules involving itemset ['News', 'STB IPTV', 'Interview', 'Politics']\n",
      "['News', 'STB IPTV'] => ['Interview', 'Politics'] (support=0.04, confidence=0.53, lift=5.03)\n",
      "['STB IPTV', 'Politics'] => ['News', 'Interview'] (support=0.04, confidence=0.67, lift=5.53)\n",
      "['News', 'STB IPTV', 'Interview'] => ['Politics'] (support=0.04, confidence=0.78, lift=5.54)\n",
      "['STB IPTV', 'Interview', 'Politics'] => ['News'] (support=0.04, confidence=0.88, lift=4.87)\n",
      "['News', 'STB IPTV', 'Politics'] => ['Interview'] (support=0.04, confidence=0.79, lift=3.66)\n",
      "\n",
      "Rules involving itemset ['TV', 'News', 'Interview', 'Politics']\n",
      "['TV', 'News'] => ['Interview', 'Politics'] (support=0.04, confidence=0.50, lift=4.73)\n",
      "['TV', 'Politics'] => ['News', 'Interview'] (support=0.04, confidence=0.67, lift=5.51)\n",
      "['TV', 'News', 'Interview'] => ['Politics'] (support=0.04, confidence=0.77, lift=5.51)\n",
      "['TV', 'Interview', 'Politics'] => ['News'] (support=0.04, confidence=0.88, lift=4.86)\n",
      "['TV', 'News', 'Politics'] => ['Interview'] (support=0.04, confidence=0.79, lift=3.71)\n",
      "\n",
      "Rules involving itemset ['Business', 'News', 'Politics', 'Interview', 'Reportage']\n",
      "['Business'] => ['News', 'Reportage', 'Interview', 'Politics'] (support=0.02, confidence=0.84, lift=36.29)\n",
      "['Business', 'Interview'] => ['News', 'Reportage', 'Politics'] (support=0.02, confidence=0.94, lift=40.35)\n",
      "['Business', 'News'] => ['Reportage', 'Interview', 'Politics'] (support=0.02, confidence=0.96, lift=37.95)\n",
      "['Business', 'Politics'] => ['News', 'Interview', 'Reportage'] (support=0.02, confidence=0.96, lift=28.27)\n",
      "['Business', 'Reportage'] => ['News', 'Interview', 'Politics'] (support=0.02, confidence=0.99, lift=10.56)\n",
      "['Reportage', 'Politics'] => ['Business', 'News', 'Interview'] (support=0.02, confidence=0.88, lift=38.68)\n",
      "['Business', 'News', 'Interview'] => ['Reportage', 'Politics'] (support=0.02, confidence=0.97, lift=38.68)\n",
      "['Business', 'Interview', 'Politics'] => ['News', 'Reportage'] (support=0.02, confidence=0.96, lift=18.90)\n",
      "['Business', 'Interview', 'Reportage'] => ['News', 'Politics'] (support=0.02, confidence=1.00, lift=8.37)\n",
      "['Business', 'News', 'Politics'] => ['Interview', 'Reportage'] (support=0.02, confidence=0.99, lift=16.88)\n",
      "['Business', 'News', 'Reportage'] => ['Interview', 'Politics'] (support=0.02, confidence=0.99, lift=9.35)\n",
      "['Business', 'Reportage', 'Politics'] => ['News', 'Interview'] (support=0.02, confidence=1.00, lift=8.23)\n",
      "['News', 'Interview', 'Reportage'] => ['Business', 'Politics'] (support=0.02, confidence=0.65, lift=28.27)\n",
      "['Reportage', 'Interview', 'Politics'] => ['Business', 'News'] (support=0.02, confidence=0.88, lift=37.95)\n",
      "['News', 'Reportage', 'Politics'] => ['Business', 'Interview'] (support=0.02, confidence=0.96, lift=40.35)\n",
      "['Business', 'News', 'Interview', 'Politics'] => ['Reportage'] (support=0.02, confidence=0.99, lift=12.93)\n",
      "['Business', 'News', 'Interview', 'Reportage'] => ['Politics'] (support=0.02, confidence=1.00, lift=7.11)\n",
      "['Business', 'Reportage', 'Interview', 'Politics'] => ['News'] (support=0.02, confidence=1.00, lift=5.50)\n",
      "['Business', 'News', 'Reportage', 'Politics'] => ['Interview'] (support=0.02, confidence=1.00, lift=4.66)\n",
      "['News', 'Reportage', 'Interview', 'Politics'] => ['Business'] (support=0.02, confidence=0.96, lift=36.29)\n",
      "\n"
     ]
    }
   ],
   "source": [
    "device__hour_subtheme_df = df['device_type_used'] + ',' + df_hour + ',' + df['program_subtheme']\n",
    "device__hour_subtheme_transactions = device__hour_subtheme_df.str.split(',').to_list()\n",
    "\n",
    "results = apriori(device__hour_subtheme_transactions, min_support=0.02, min_confidence=0.5, min_lift=1)\n",
    "print_apyori_output(results)"
   ]
  },
  {
   "cell_type": "markdown",
   "metadata": {},
   "source": [
    "## Subtheme + Device + Hour + Day Transaction"
   ]
  },
  {
   "cell_type": "code",
   "execution_count": 107,
   "metadata": {},
   "outputs": [
    {
     "name": "stdout",
     "output_type": "stream",
     "text": [
      "Rules involving itemset ['News', '21', 'Politics']\n",
      "['News', '21'] => ['Politics'] (support=0.04, confidence=0.98, lift=7.02)\n",
      "['21', 'Politics'] => ['News'] (support=0.04, confidence=0.98, lift=5.41)\n",
      "\n",
      "Rules involving itemset ['Business', 'News', 'Interview']\n",
      "['Business', 'Interview'] => ['News'] (support=0.02, confidence=0.96, lift=5.29)\n",
      "\n",
      "Rules involving itemset ['Business', 'Interview', 'Politics']\n",
      "['Business', 'Interview'] => ['Politics'] (support=0.02, confidence=0.97, lift=6.93)\n",
      "\n",
      "Rules involving itemset ['Business', 'News', 'Politics']\n",
      "['Business', 'News'] => ['Politics'] (support=0.02, confidence=0.96, lift=6.88)\n",
      "['Business', 'Politics'] => ['News'] (support=0.02, confidence=0.97, lift=5.35)\n",
      "\n",
      "Rules involving itemset ['Business', 'News', 'Reportage']\n",
      "['Business', 'News'] => ['Reportage'] (support=0.02, confidence=0.96, lift=12.54)\n",
      "['Business', 'Reportage'] => ['News'] (support=0.02, confidence=1.00, lift=5.50)\n",
      "\n",
      "Rules involving itemset ['Business', 'Reportage', 'Politics']\n",
      "['Business', 'Politics'] => ['Reportage'] (support=0.02, confidence=0.96, lift=12.57)\n",
      "['Business', 'Reportage'] => ['Politics'] (support=0.02, confidence=0.99, lift=7.09)\n",
      "\n",
      "Rules involving itemset ['Current Events', 'News', 'Politics']\n",
      "['Current Events', 'Politics'] => ['News'] (support=0.03, confidence=0.98, lift=5.39)\n",
      "\n",
      "Rules involving itemset ['News', '21', 'Interview', 'Politics']\n",
      "['News', '21', 'Interview'] => ['Politics'] (support=0.03, confidence=1.00, lift=7.11)\n",
      "['21', 'Interview', 'Politics'] => ['News'] (support=0.03, confidence=1.00, lift=5.48)\n",
      "\n",
      "Rules involving itemset ['News', '21', 'STB IPTV', 'Politics']\n",
      "['News', '21', 'STB IPTV'] => ['Politics'] (support=0.02, confidence=0.98, lift=7.00)\n",
      "['21', 'STB IPTV', 'Politics'] => ['News'] (support=0.02, confidence=0.97, lift=5.35)\n",
      "\n",
      "Rules involving itemset ['Business', 'News', 'Interview', 'Politics']\n",
      "['Business', 'News'] => ['Interview', 'Politics'] (support=0.02, confidence=0.96, lift=9.07)\n",
      "['Business', 'Politics'] => ['News', 'Interview'] (support=0.02, confidence=0.97, lift=8.00)\n",
      "['Business', 'News', 'Interview'] => ['Politics'] (support=0.02, confidence=0.98, lift=7.01)\n",
      "['Business', 'Interview', 'Politics'] => ['News'] (support=0.02, confidence=0.97, lift=5.35)\n",
      "\n",
      "Rules involving itemset ['Business', 'News', 'Interview', 'Reportage']\n",
      "['Business', 'News'] => ['Interview', 'Reportage'] (support=0.02, confidence=0.96, lift=16.33)\n",
      "['Business', 'Reportage'] => ['News', 'Interview'] (support=0.02, confidence=1.00, lift=8.20)\n",
      "['Business', 'News', 'Interview'] => ['Reportage'] (support=0.02, confidence=0.98, lift=12.75)\n",
      "['Business', 'Interview', 'Reportage'] => ['News'] (support=0.02, confidence=1.00, lift=5.50)\n",
      "\n",
      "Rules involving itemset ['Business', 'Reportage', 'Interview', 'Politics']\n",
      "['Business', 'Politics'] => ['Interview', 'Reportage'] (support=0.02, confidence=0.96, lift=16.41)\n",
      "['Business', 'Reportage'] => ['Interview', 'Politics'] (support=0.02, confidence=0.99, lift=9.35)\n",
      "['Business', 'Interview', 'Politics'] => ['Reportage'] (support=0.02, confidence=0.96, lift=12.57)\n",
      "['Business', 'Interview', 'Reportage'] => ['Politics'] (support=0.02, confidence=1.00, lift=7.11)\n",
      "\n",
      "Rules involving itemset ['Business', 'News', 'Reportage', 'Politics']\n",
      "['Business', 'News'] => ['Politics', 'Reportage'] (support=0.02, confidence=0.96, lift=37.95)\n",
      "['Business', 'Politics'] => ['News', 'Reportage'] (support=0.02, confidence=0.96, lift=18.90)\n",
      "['Business', 'Reportage'] => ['News', 'Politics'] (support=0.02, confidence=0.99, lift=8.35)\n",
      "['Business', 'News', 'Politics'] => ['Reportage'] (support=0.02, confidence=0.99, lift=12.93)\n",
      "['Business', 'News', 'Reportage'] => ['Politics'] (support=0.02, confidence=0.99, lift=7.09)\n",
      "['Business', 'Reportage', 'Politics'] => ['News'] (support=0.02, confidence=1.00, lift=5.50)\n",
      "['News', 'Reportage', 'Politics'] => ['Business'] (support=0.02, confidence=0.96, lift=36.29)\n",
      "\n",
      "Rules involving itemset ['Business', 'News', 'Politics', 'Interview', 'Reportage']\n",
      "['Business', 'News'] => ['Reportage', 'Interview', 'Politics'] (support=0.02, confidence=0.96, lift=37.95)\n",
      "['Business', 'Politics'] => ['News', 'Interview', 'Reportage'] (support=0.02, confidence=0.96, lift=28.27)\n",
      "['Business', 'Reportage'] => ['News', 'Interview', 'Politics'] (support=0.02, confidence=0.99, lift=10.56)\n",
      "['Business', 'News', 'Interview'] => ['Reportage', 'Politics'] (support=0.02, confidence=0.97, lift=38.68)\n",
      "['Business', 'Interview', 'Politics'] => ['News', 'Reportage'] (support=0.02, confidence=0.96, lift=18.90)\n",
      "['Business', 'Interview', 'Reportage'] => ['News', 'Politics'] (support=0.02, confidence=1.00, lift=8.37)\n",
      "['Business', 'News', 'Politics'] => ['Interview', 'Reportage'] (support=0.02, confidence=0.99, lift=16.88)\n",
      "['Business', 'News', 'Reportage'] => ['Interview', 'Politics'] (support=0.02, confidence=0.99, lift=9.35)\n",
      "['Business', 'Reportage', 'Politics'] => ['News', 'Interview'] (support=0.02, confidence=1.00, lift=8.23)\n",
      "['News', 'Reportage', 'Politics'] => ['Business', 'Interview'] (support=0.02, confidence=0.96, lift=40.35)\n",
      "['Business', 'News', 'Interview', 'Politics'] => ['Reportage'] (support=0.02, confidence=0.99, lift=12.93)\n",
      "['Business', 'News', 'Interview', 'Reportage'] => ['Politics'] (support=0.02, confidence=1.00, lift=7.11)\n",
      "['Business', 'Reportage', 'Interview', 'Politics'] => ['News'] (support=0.02, confidence=1.00, lift=5.50)\n",
      "['News', 'Reportage', 'Interview', 'Politics'] => ['Business'] (support=0.02, confidence=0.96, lift=36.29)\n",
      "\n"
     ]
    }
   ],
   "source": [
    "device_day_hour_subtheme_df = df['device_type_used'] + ',' + df_day + ',' + df_hour + ',' + df['program_subtheme']\n",
    "device_day_hour_subtheme_transactions = device_day_hour_subtheme_df.str.split(',').to_list()\n",
    "\n",
    "results = apriori(device_day_hour_subtheme_transactions, min_support=0.022, min_confidence=0.95, min_lift=5)\n",
    "print_apyori_output(results)"
   ]
  },
  {
   "cell_type": "markdown",
   "metadata": {},
   "source": [
    "# Clustering"
   ]
  },
  {
   "cell_type": "code",
   "execution_count": 35,
   "metadata": {},
   "outputs": [
    {
     "name": "stderr",
     "output_type": "stream",
     "text": [
      "<ipython-input-35-9f059d03abe0>:2: SettingWithCopyWarning: \n",
      "A value is trying to be set on a copy of a slice from a DataFrame.\n",
      "Try using .loc[row_indexer,col_indexer] = value instead\n",
      "\n",
      "See the caveats in the documentation: https://pandas.pydata.org/pandas-docs/stable/user_guide/indexing.html#returning-a-view-versus-a-copy\n",
      "  df_cluster['date_time_start'] = df_cluster['date_time_start'].astype('datetime64').dt.hour\n"
     ]
    }
   ],
   "source": [
    "df_cluster = df[['date_time_start', 'duration']]#[:100]\n",
    "df_cluster['date_time_start'] = df_cluster['date_time_start'].astype('datetime64').dt.hour"
   ]
  },
  {
   "cell_type": "code",
   "execution_count": 36,
   "metadata": {},
   "outputs": [
    {
     "ename": "TypeError",
     "evalue": "ufunc 'true_divide' output (typecode 'd') could not be coerced to provided output parameter (typecode 'q') according to the casting rule ''same_kind''",
     "output_type": "error",
     "traceback": [
      "\u001b[1;31m---------------------------------------------------------------------------\u001b[0m",
      "\u001b[1;31mTypeError\u001b[0m                                 Traceback (most recent call last)",
      "\u001b[1;32m<ipython-input-36-707fc5fd0e4d>\u001b[0m in \u001b[0;36m<module>\u001b[1;34m\u001b[0m\n\u001b[0;32m      1\u001b[0m \u001b[1;32mimport\u001b[0m \u001b[0mgower\u001b[0m\u001b[1;33m\u001b[0m\u001b[1;33m\u001b[0m\u001b[0m\n\u001b[0;32m      2\u001b[0m \u001b[1;33m\u001b[0m\u001b[0m\n\u001b[1;32m----> 3\u001b[1;33m \u001b[0mdistance_matrix\u001b[0m \u001b[1;33m=\u001b[0m \u001b[0mgower\u001b[0m\u001b[1;33m.\u001b[0m\u001b[0mgower_matrix\u001b[0m\u001b[1;33m(\u001b[0m\u001b[0mdf_cluster\u001b[0m\u001b[1;33m)\u001b[0m\u001b[1;33m\u001b[0m\u001b[1;33m\u001b[0m\u001b[0m\n\u001b[0m\u001b[0;32m      4\u001b[0m \u001b[1;31m# df[:100]\u001b[0m\u001b[1;33m\u001b[0m\u001b[1;33m\u001b[0m\u001b[1;33m\u001b[0m\u001b[0m\n\u001b[0;32m      5\u001b[0m \u001b[1;31m# distance_matrix\u001b[0m\u001b[1;33m\u001b[0m\u001b[1;33m\u001b[0m\u001b[1;33m\u001b[0m\u001b[0m\n",
      "\u001b[1;32m~\\anaconda3\\lib\\site-packages\\gower\\gower_dist.py\u001b[0m in \u001b[0;36mgower_matrix\u001b[1;34m(data_x, data_y, weight, cat_features)\u001b[0m\n\u001b[0;32m     60\u001b[0m \u001b[1;33m\u001b[0m\u001b[0m\n\u001b[0;32m     61\u001b[0m     \u001b[1;31m# This is to normalize the numeric values between 0 and 1.\u001b[0m\u001b[1;33m\u001b[0m\u001b[1;33m\u001b[0m\u001b[1;33m\u001b[0m\u001b[0m\n\u001b[1;32m---> 62\u001b[1;33m     \u001b[0mZ_num\u001b[0m \u001b[1;33m=\u001b[0m \u001b[0mnp\u001b[0m\u001b[1;33m.\u001b[0m\u001b[0mdivide\u001b[0m\u001b[1;33m(\u001b[0m\u001b[0mZ_num\u001b[0m \u001b[1;33m,\u001b[0m\u001b[0mnum_max\u001b[0m\u001b[1;33m,\u001b[0m\u001b[0mout\u001b[0m\u001b[1;33m=\u001b[0m\u001b[0mnp\u001b[0m\u001b[1;33m.\u001b[0m\u001b[0mzeros_like\u001b[0m\u001b[1;33m(\u001b[0m\u001b[0mZ_num\u001b[0m\u001b[1;33m)\u001b[0m\u001b[1;33m,\u001b[0m \u001b[0mwhere\u001b[0m\u001b[1;33m=\u001b[0m\u001b[0mnum_max\u001b[0m\u001b[1;33m!=\u001b[0m\u001b[1;36m0\u001b[0m\u001b[1;33m)\u001b[0m\u001b[1;33m\u001b[0m\u001b[1;33m\u001b[0m\u001b[0m\n\u001b[0m\u001b[0;32m     63\u001b[0m     \u001b[0mZ_cat\u001b[0m \u001b[1;33m=\u001b[0m \u001b[0mZ\u001b[0m\u001b[1;33m[\u001b[0m\u001b[1;33m:\u001b[0m\u001b[1;33m,\u001b[0m\u001b[0mcat_features\u001b[0m\u001b[1;33m]\u001b[0m\u001b[1;33m\u001b[0m\u001b[1;33m\u001b[0m\u001b[0m\n\u001b[0;32m     64\u001b[0m \u001b[1;33m\u001b[0m\u001b[0m\n",
      "\u001b[1;31mTypeError\u001b[0m: ufunc 'true_divide' output (typecode 'd') could not be coerced to provided output parameter (typecode 'q') according to the casting rule ''same_kind''"
     ]
    }
   ],
   "source": [
    "import gower\n",
    "\n",
    "distance_matrix = gower.gower_matrix(df_cluster)\n",
    "# df[:100]\n",
    "# distance_matrix"
   ]
  },
  {
   "cell_type": "code",
   "execution_count": null,
   "metadata": {},
   "outputs": [],
   "source": [
    "from sklearn.cluster import DBSCAN\n",
    "\n",
    "# Configuring the parameters of the clustering algorithm\n",
    "dbscan_cluster = DBSCAN(eps=0.3, \n",
    "                        min_samples=2, \n",
    "                        metric=\"precomputed\")\n",
    "\n",
    "# Fitting the clustering algorithm\n",
    "dbscan_cluster.fit(distance_matrix)\n",
    "\n",
    "part_df = df_cluster\n",
    "\n",
    "# Adding the results to a new column in the dataframe\n",
    "part_df[\"cluster\"] = dbscan_cluster.labels_\n",
    "part_df[\"cluster\"]"
   ]
  },
  {
   "cell_type": "code",
   "execution_count": null,
   "metadata": {},
   "outputs": [],
   "source": [
    "# %matplotlib inline\n",
    "dendrogram = sch.dendrogram(sch.linkage(df_cluster, method = 'ward'))   # We choose the ward method routine for agglomerative clustering\n",
    "\n",
    "# We plot the dendogram with the clusters\n",
    "plt.title('Dendrogram')\n",
    "plt.xlabel('Customers')\n",
    "plt.ylabel('Euclidean distance')\n",
    "plt.show()\n",
    "\n",
    "# plt.scatter(part_df['duration'], part_df['program_subtheme'], c = part_df['cluster'])\n",
    "dendrogram"
   ]
  },
  {
   "cell_type": "code",
   "execution_count": null,
   "metadata": {},
   "outputs": [],
   "source": [
    "df_tot.to_csv('Data/Extraction 3/Clean data 3.csv',index=False)"
   ]
  }
 ],
 "metadata": {
  "kernelspec": {
   "display_name": "Python 3",
   "language": "python",
   "name": "python3"
  },
  "language_info": {
   "codemirror_mode": {
    "name": "ipython",
    "version": 3
   },
   "file_extension": ".py",
   "mimetype": "text/x-python",
   "name": "python",
   "nbconvert_exporter": "python",
   "pygments_lexer": "ipython3",
   "version": "3.8.3"
  }
 },
 "nbformat": 4,
 "nbformat_minor": 4
}
